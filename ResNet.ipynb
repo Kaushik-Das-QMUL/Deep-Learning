{
  "nbformat": 4,
  "nbformat_minor": 0,
  "metadata": {
    "colab": {
      "name": "ResNet.ipynb",
      "provenance": []
    },
    "kernelspec": {
      "name": "python3",
      "display_name": "Python 3"
    },
    "accelerator": "GPU"
  },
  "cells": [
    {
      "cell_type": "code",
      "metadata": {
        "id": "333P2l9xZ4r-",
        "colab_type": "code",
        "colab": {}
      },
      "source": [
        "%tensorflow_version 1.x\n",
        "import keras\n",
        "from keras.layers import Dense, Dropout, Flatten, Conv2D, MaxPooling2D, Reshape, BatchNormalization, Activation,Convolution2D\n",
        "from keras.layers import Input, Add, ZeroPadding2D, AveragePooling2D, GlobalMaxPooling2D,add\n",
        "from keras.datasets import mnist\n",
        "from keras.datasets import cifar10\n",
        "import numpy as np\n",
        "import matplotlib.pyplot as plt\n",
        "from keras import backend as k\n",
        "from keras.optimizers import Adam\n",
        "from PIL import Image as pil_image\n",
        "from keras.models import Model\n",
        "from PIL import Image as pil_image\n",
        "import cv2 as cv2\n",
        "from  skimage import transform\n",
        "from keras.datasets import cifar10\n",
        "from keras.datasets import mnist\n",
        "from keras import optimizers\n",
        "from keras.datasets import fashion_mnist"
      ],
      "execution_count": null,
      "outputs": []
    },
    {
      "cell_type": "code",
      "metadata": {
        "id": "Axwlvjdwbuum",
        "colab_type": "code",
        "colab": {}
      },
      "source": [
        "from keras.datasets import mnist\n",
        "(x_train, y_train), (x_test, y_test) = mnist.load_data()\n",
        "print('Training data Dimension : ', x_train.shape, y_train.shape)\n",
        "print('Testing data Dimension : ', x_test.shape, y_test.shape)\n",
        "classes = np.unique(y_train)\n",
        "number_of_classes = len(classes)\n",
        "print(number_of_classes)\n",
        "\n",
        "plt.figure(figsize=[2,2])\n",
        "plt.imshow(x_train[10,:,:], cmap='gray')\n",
        "plt.title(\"Ground Truth : {}\".format(y_train[10]))\n",
        "\n",
        "x_train = x_train.astype('float32')\n",
        "x_test = x_test.astype('float32')\n",
        "x_train /= 255\n",
        "x_test /= 255\n",
        "y_train_one_hot = keras.utils.to_categorical(y_train, number_of_classes)\n",
        "y_test_one_hot = keras.utils.to_categorical(y_test, number_of_classes)\n",
        "\n",
        "print('Original label : ', y_train[10])\n",
        "print('After One Hot Encoding : ', y_train_one_hot[10])"
      ],
      "execution_count": null,
      "outputs": []
    },
    {
      "cell_type": "code",
      "metadata": {
        "id": "Z0sLWUL67REd",
        "colab_type": "code",
        "colab": {}
      },
      "source": [
        "# new_shape = (56,56)\n",
        "# x_train = np.asarray([transform.resize(image, new_shape) for image in x_train])\n",
        "# x_test = np.asarray([transform.resize(image, new_shape) for image in x_test])"
      ],
      "execution_count": null,
      "outputs": []
    },
    {
      "cell_type": "code",
      "metadata": {
        "id": "_awz0mKXcNXO",
        "colab_type": "code",
        "colab": {
          "base_uri": "https://localhost:8080/",
          "height": 35
        },
        "outputId": "9c4f4145-7308-4810-87b3-39bdb9f23c78"
      },
      "source": [
        "rows, cols = 28,28\n",
        "ch=1\n",
        "if k.image_data_format() == 'channels_first':\n",
        "    x_train = x_train.reshape(x_train.shape[0], ch, rows, cols)\n",
        "    x_test = x_test.reshape(x_test.shape[0], ch, rows, cols)\n",
        "    input_shape = (ch, rows, cols)\n",
        "else:\n",
        "    x_train = x_train.reshape(x_train.shape[0],ch, rows, cols)\n",
        "    x_test = x_test.reshape(x_test.shape[0],ch, rows, cols)\n",
        "    input_shape = (ch,rows, cols)\n",
        "print(input_shape)"
      ],
      "execution_count": null,
      "outputs": [
        {
          "output_type": "stream",
          "text": [
            "(1, 28, 28)\n"
          ],
          "name": "stdout"
        }
      ]
    },
    {
      "cell_type": "code",
      "metadata": {
        "id": "WgzS-5OpdF5Y",
        "colab_type": "code",
        "colab": {}
      },
      "source": [
        "def create_residual_network():\n",
        "\n",
        "  img = Input(input_shape, name='Input')\n",
        "  zeropad_layer_1 = ZeroPadding2D ((1,1), name = 'Zero_Padding_layer_1', dim_ordering='th')\n",
        "  convolution_layer_1 = Conv2D(64, kernel_size=3, strides=(2,2), name = 'convolution_layer_1', kernel_initializer=keras.initializers.he_normal(seed=0), dim_ordering='th')\n",
        "\n",
        "  zeropad_layer_2 = ZeroPadding2D ((1,1), name = 'Zero_Padding_layer_2', dim_ordering='th')\n",
        "  convolution_layer_2 = Conv2D(64, kernel_size=3, strides=(1,1), name = 'convolution_layer_2', kernel_initializer=keras.initializers.he_normal(seed=0), dim_ordering='th')\n",
        "\n",
        "  zeropad_layer_3 = ZeroPadding2D ((1,1), name = 'Zero_Padding_layer_3', dim_ordering='th')\n",
        "  convolution_layer_3 = Conv2D(64, kernel_size=3, strides=(1,1), name = 'convolution_layer_3', kernel_initializer=keras.initializers.he_normal(seed=0), dim_ordering='th')\n",
        "\n",
        "  zeropad_layer_4 = ZeroPadding2D ((1,1), name = 'Zero_Padding_layer_4', dim_ordering='th')\n",
        "  convolution_layer_4 = Conv2D(64, kernel_size=3, strides=(1,1), name = 'convolution_layer_4', kernel_initializer=keras.initializers.he_normal(seed=0), dim_ordering='th')\n",
        "\n",
        "  zeropad_layer_5 = ZeroPadding2D ((1,1), name = 'Zero_Padding_layer_5', dim_ordering='th')\n",
        "  convolution_layer_5 = Conv2D(128, kernel_size=3, strides=(2,2), name = 'convolution_layer_5', kernel_initializer=keras.initializers.he_normal(seed=0), dim_ordering='th')\n",
        "\n",
        "  zeropad_layer_6 = ZeroPadding2D ((1,1), name = 'Zero_Padding_layer_6', dim_ordering='th')\n",
        "  convolution_layer_6 = Conv2D(128, kernel_size=3, strides=(1,1), name = 'convolution_layer_6', kernel_initializer=keras.initializers.he_normal(seed=0), dim_ordering='th')\n",
        "\n",
        "  zeropad_layer_7 = ZeroPadding2D ((1,1), name = 'Zero_Padding_layer_7', dim_ordering='th')\n",
        "  convolution_layer_7 = Conv2D(128, kernel_size=3, strides=(1,1), name = 'convolution_layer_7', kernel_initializer=keras.initializers.he_normal(seed=0), dim_ordering='th')\n",
        "\n",
        "  zeropad_layer_8 = ZeroPadding2D ((1,1), name = 'Zero_Padding_layer_8', dim_ordering='th')\n",
        "  convolution_layer_8 = Conv2D(128, kernel_size=3, strides=(1,1), name = 'convolution_layer_8', kernel_initializer=keras.initializers.he_normal(seed=0), dim_ordering='th')\n",
        "\n",
        "  zeropad_layer_9 = ZeroPadding2D ((1,1), name = 'Zero_Padding_layer_9', dim_ordering='th')\n",
        "  convolution_layer_9 = Conv2D(256, kernel_size=3, strides=(1,1), name = 'convolution_layer_9', kernel_initializer=keras.initializers.he_normal(seed=0), dim_ordering='th')\n",
        "\n",
        "  zeropad_layer_10 = ZeroPadding2D ((1,1), name = 'Zero_Padding_layer_10', dim_ordering='th')\n",
        "  convolution_layer_10 = Conv2D(256, kernel_size=3, strides=(1,1), name = 'convolution_layer_10', kernel_initializer=keras.initializers.he_normal(seed=0), dim_ordering='th')\n",
        "\n",
        "  zeropad_layer_11 = ZeroPadding2D ((1,1), name = 'Zero_Padding_layer_11', dim_ordering='th')\n",
        "  convolution_layer_11 = Conv2D(256, kernel_size=3, strides=(1,1), name = 'convolution_layer_11', kernel_initializer=keras.initializers.he_normal(seed=0), dim_ordering='th')\n",
        "\n",
        "\n",
        "  zeropad_layer_12 = ZeroPadding2D ((1,1), name = 'Zero_Padding_layer_12', dim_ordering='th')\n",
        "  convolution_layer_12 = Conv2D(512, kernel_size=3, strides=(1,1), name = 'convolution_layer_12', kernel_initializer=keras.initializers.he_normal(seed=0), dim_ordering='th')\n",
        "\n",
        "  zeropad_layer_13 = ZeroPadding2D ((1,1), name = 'Zero_Padding_layer_13', dim_ordering='th')\n",
        "  convolution_layer_13 = Conv2D(512, kernel_size=3, strides=(1,1), name = 'convolution_layer_13', kernel_initializer=keras.initializers.he_normal(seed=0), dim_ordering='th')\n",
        "\n",
        "  zeropad_layer_14 = ZeroPadding2D ((1,1), name = 'Zero_Padding_layer_14', dim_ordering='th')\n",
        "  convolution_layer_14 = Conv2D(512, kernel_size=3, strides=(1,1), name = 'convolution_layer_14', kernel_initializer=keras.initializers.he_normal(seed=0), dim_ordering='th')\n",
        "\n",
        "  dense_layer_15 = Dense(1024, activation='relu', kernel_initializer=keras.initializers.he_normal(seed=0), name ='dense_layer_15')\n",
        "  dense_layer_16 = Dense(1024, activation='relu', kernel_initializer=keras.initializers.he_normal(seed=0), name ='dense_layer_16')\n",
        "\n",
        "  op_layer = Dense(10, activation='softmax', kernel_initializer=keras.initializers.he_normal(seed=0), name='classifier')\n",
        "\n",
        "\n",
        "  first_l = zeropad_layer_1(img)\n",
        "  first_l = convolution_layer_1(first_l)\n",
        "  first_l = BatchNormalization(axis=ch, name='Batch_Normalization_1')(first_l)\n",
        "  first_l = Activation('relu', name='Activation_Layer_1')(first_l)\n",
        "\n",
        "  second_l = zeropad_layer_2(first_l)\n",
        "  second_l = convolution_layer_2(second_l)\n",
        "  second_l = BatchNormalization(axis=ch, name='Batch_Normalization_2')(second_l)\n",
        "  second_l = Activation('relu', name='Activation_Layer_2')(second_l)\n",
        "\n",
        "  \n",
        "  third_l = zeropad_layer_3(second_l)\n",
        "  third_l = convolution_layer_3(third_l)\n",
        "  third_l = BatchNormalization(axis=ch, name='Batch_Normalization_3')(third_l)\n",
        "  third_l = Activation('relu', name='Activation_Layer_3')(third_l)\n",
        "\n",
        "  fourth_l = zeropad_layer_3(third_l)\n",
        "  fourth_l = convolution_layer_4(fourth_l)\n",
        "  fourth_l = BatchNormalization(axis=ch, name='Batch_Normalization_4')(fourth_l)\n",
        "  fourth_l = add([first_l, fourth_l], name='Skip_Connection_1')\n",
        "  fourth_l = Activation('relu', name='Activation_Layer_4')(fourth_l)\n",
        "\n",
        "  fifth_l = zeropad_layer_5(fourth_l)\n",
        "  fifth_l = convolution_layer_5(fifth_l)\n",
        "  fifth_l = BatchNormalization(axis=ch, name='Batch_Normalization_5')(fifth_l)\n",
        "  fifth_l = Activation('relu', name='Activation_Layer_5')(fifth_l)\n",
        "\n",
        "  sixth_l = zeropad_layer_6(fifth_l)\n",
        "  sixth_l = convolution_layer_6(sixth_l)\n",
        "  sixth_l = BatchNormalization(axis=ch, name='Batch_Normalization_6')(sixth_l)\n",
        "  sixth_l = Activation('relu', name='Activation_Layer_6')(sixth_l)\n",
        "\n",
        "  seventh_l = zeropad_layer_7(sixth_l)\n",
        "  seventh_l = convolution_layer_7(seventh_l)\n",
        "  seventh_l = BatchNormalization(axis=ch, name='Batch_Normalization_7')(seventh_l)\n",
        "  seventh_l = Activation('relu', name='Activation_Layer_7')(seventh_l)\n",
        "\n",
        "  eighth_l = zeropad_layer_8(seventh_l)\n",
        "  eighth_l = convolution_layer_8(eighth_l)\n",
        "  eighth_l = BatchNormalization(axis=ch, name='Batch_Normalization_8')(eighth_l)\n",
        "  eighth_l = add([fifth_l, eighth_l], name='Skip_Connection_2')\n",
        "  eighth_l = Activation('relu', name='Activation_Layer_8')(eighth_l)\n",
        "\n",
        "  #\n",
        "  ninth_l = zeropad_layer_9(eighth_l)\n",
        "  ninth_l = convolution_layer_9(ninth_l)\n",
        "  ninth_l = BatchNormalization(axis=ch, name='Batch_Normalization_9')(ninth_l)\n",
        "  ninth_l = Activation('relu', name='Activation_Layer_9')(ninth_l)\n",
        "\n",
        "  tenth_l = zeropad_layer_10(ninth_l)\n",
        "  tenth_l = convolution_layer_10(tenth_l)\n",
        "  tenth_l = BatchNormalization(axis=ch, name='Batch_Normalization_10')(tenth_l)\n",
        "  tenth_l = Activation('relu', name='Activation_Layer_10')(tenth_l)\n",
        "\n",
        "  eleventh_l = zeropad_layer_11(tenth_l)\n",
        "  eleventh_l = convolution_layer_11(eleventh_l)\n",
        "  eleventh_l = BatchNormalization(axis=ch, name='Batch_Normalization_11')(eleventh_l)\n",
        "  eleventh_l = add([ninth_l, eleventh_l], name='Skip_Connection_3')\n",
        "  eleventh_l = Activation('relu', name='Activation_Layer_11')(eleventh_l)\n",
        "\n",
        "   #\n",
        "  twelfth_l = zeropad_layer_12(eleventh_l)\n",
        "  twelfth_l = convolution_layer_12(twelfth_l)\n",
        "  twelfth_l = BatchNormalization(axis=ch, name='Batch_Normalization_12')(twelfth_l)\n",
        "  twelfth_l = Activation('relu', name='Activation_Layer_12')(twelfth_l)\n",
        "\n",
        "  thirteenth_l = zeropad_layer_13(twelfth_l)\n",
        "  thirteenth_l = convolution_layer_13(thirteenth_l)\n",
        "  thirteenth_l = BatchNormalization(axis=ch, name='Batch_Normalization_13')(thirteenth_l)\n",
        "  thirteenth_l = Activation('relu', name='Activation_Layer_13')(thirteenth_l)\n",
        "\n",
        "  fourteenth_l = zeropad_layer_14(thirteenth_l)\n",
        "  fourteenth_l = convolution_layer_14(fourteenth_l)\n",
        "  fourteenth_l = BatchNormalization(axis=ch, name='Batch_Normalization_14')(fourteenth_l)\n",
        "  fourteenth_l = add([twelfth_l, fourteenth_l], name='Skip_Connection_4')\n",
        "  fourteenth_l = Activation('relu', name='Activation_Layer_14')(fourteenth_l)\n",
        "\n",
        "  avg_pool = AveragePooling2D((2,2), name=\"Average_pooling_Layer\",dim_ordering='th')(fourteenth_l)\n",
        "\n",
        "  flat_layer = Flatten()(avg_pool)\n",
        "  fifteenth_l = dense_layer_15(flat_layer)\n",
        "  fifteenth_l = Dropout(0.4, name='Dropout_Layer_1')(fifteenth_l)\n",
        "\n",
        "  sixteenth_l = dense_layer_16(fifteenth_l)\n",
        "  sixteenth_l = Dropout(0.4, name='Dropout_Layer_2')(sixteenth_l)\n",
        "\n",
        "  output_layer = op_layer(sixteenth_l)\n",
        "\n",
        "  resnet_model = Model(input=img, output=output_layer)\n",
        "\n",
        "  return resnet_model"
      ],
      "execution_count": null,
      "outputs": []
    },
    {
      "cell_type": "code",
      "metadata": {
        "id": "lq1u1hJNmPVf",
        "colab_type": "code",
        "colab": {}
      },
      "source": [
        "resnet = create_residual_network()"
      ],
      "execution_count": null,
      "outputs": []
    },
    {
      "cell_type": "code",
      "metadata": {
        "id": "Hwbe6Zyomh5z",
        "colab_type": "code",
        "colab": {}
      },
      "source": [
        "resnet.summary()"
      ],
      "execution_count": null,
      "outputs": []
    },
    {
      "cell_type": "code",
      "metadata": {
        "id": "GavM6DPL1RE2",
        "colab_type": "code",
        "colab": {}
      },
      "source": [
        "sgd = optimizers.SGD(lr=0.01,decay=1e-6, momentum=0.9, nesterov=True)\n",
        "resnet.compile(loss=keras.losses.categorical_crossentropy, optimizer=sgd, metrics=['accuracy'])\n",
        "batch_size = 256\n",
        "number_of_epoch = 10\n",
        "\n",
        "history = resnet.fit(x_train, y_train_one_hot, validation_split=0.1, epochs=number_of_epoch, batch_size=batch_size, verbose=1, shuffle=1)\n",
        "report_card = resnet.evaluate(x_test, y_test_one_hot, verbose=0)\n",
        "print('Test loss:', report_card[0])\n",
        "print('Test accuracy:', report_card[1])"
      ],
      "execution_count": null,
      "outputs": []
    },
    {
      "cell_type": "code",
      "metadata": {
        "id": "NmZnGlcn52ja",
        "colab_type": "code",
        "colab": {}
      },
      "source": [
        "plt.plot(history.history['loss'])\n",
        "plt.plot(history.history['val_loss'])\n",
        "plt.legend(['loss', 'val_loss'])\n",
        "plt.title('Loss')"
      ],
      "execution_count": null,
      "outputs": []
    },
    {
      "cell_type": "code",
      "metadata": {
        "id": "tPAYPyNJ6H5q",
        "colab_type": "code",
        "colab": {}
      },
      "source": [
        "plt.xlabel('epoch')\n",
        "plt.plot(history.history['accuracy'])\n",
        "plt.plot(history.history['val_accuracy'])\n",
        "plt.legend(['accuracy', 'val_accuracy'])\n",
        "plt.title('Accuracy')\n",
        "plt.xlabel('epoch')"
      ],
      "execution_count": null,
      "outputs": []
    }
  ]
}