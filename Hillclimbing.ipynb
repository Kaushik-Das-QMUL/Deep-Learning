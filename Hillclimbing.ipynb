{
  "nbformat": 4,
  "nbformat_minor": 0,
  "metadata": {
    "colab": {
      "name": "Hillclimbing.ipynb",
      "provenance": [],
      "collapsed_sections": []
    },
    "kernelspec": {
      "name": "python3",
      "display_name": "Python 3"
    }
  },
  "cells": [
    {
      "cell_type": "code",
      "metadata": {
        "id": "5kY1-mFSIxAu",
        "colab_type": "code",
        "colab": {}
      },
      "source": [
        "import numpy as np\n",
        "import random\n",
        "def evaluate_blocks(position):\n",
        "  count=0\n",
        "\n",
        "  ar = [[0 for j in range(8)] for i in range(8)]\n",
        "  for k in range (8):\n",
        "    j=int(position[k])\n",
        "    ar[7-j][k]=50\n",
        "    # print(ar[k])\n",
        "\n",
        "  print(\"**********\")\n",
        "\n",
        "  for column in range (8):\n",
        "    for row in range (8):\n",
        "      if (row!=int(position[column])):\n",
        "        possible_position=position[0:column]+str(row)+position[column+1:len(position)]\n",
        "        ar[7-row][column]=energy_calculation(possible_position)\n",
        "    res = [min(idx) for idx in zip(*ar)]\n",
        "    #res_list = [i for i, value in enumerate(test_list) if value == 3]  \n",
        "    #print(res[column])\n",
        "    list_=[]\n",
        "    for i in range(8):\n",
        "      if (ar[i][column]==res[column]):\n",
        "        list_.append(7-i)\n",
        "    \n",
        "    best_move_per_column=str(random.choice(list_))\n",
        "    #print(\"for column {} best move is {}\".format(column,best_move_per_column))\n",
        "    position=position[0:column]+best_move_per_column+position[column+1:len(position)]\n",
        "  #print(ar)\n",
        "  return (position)\n",
        "\n",
        "  \n",
        "#evaluate_blocks(\"57066174\")\n"
      ],
      "execution_count": null,
      "outputs": []
    },
    {
      "cell_type": "code",
      "metadata": {
        "id": "Mk1gFevOMgTa",
        "colab_type": "code",
        "colab": {
          "base_uri": "https://localhost:8080/",
          "height": 35
        },
        "outputId": "fa0776b6-b36b-40fa-9696-6c9684388f79"
      },
      "source": [
        "def energy_calculation(state):\n",
        "  s=state\n",
        "  count=0\n",
        "  for j in range (8):\n",
        "    for i in range (j+1,8):\n",
        "      if (int(s[j])==int(s[i]) or abs(i-j)==abs(int(s[i])-int(s[j]))):\n",
        "        count+=1\n",
        "  return(count)\n",
        "energy_calculation(\"61724700\")"
      ],
      "execution_count": null,
      "outputs": [
        {
          "output_type": "execute_result",
          "data": {
            "text/plain": [
              "4"
            ]
          },
          "metadata": {
            "tags": []
          },
          "execution_count": 3
        }
      ]
    },
    {
      "cell_type": "code",
      "metadata": {
        "id": "YpwQZz7YEojW",
        "colab_type": "code",
        "colab": {}
      },
      "source": [
        "def random_restart():\n",
        "  return (''.join(random.choice('01234567') for _ in range (8)))"
      ],
      "execution_count": null,
      "outputs": []
    },
    {
      "cell_type": "code",
      "metadata": {
        "id": "xnI6-pTFeVXY",
        "colab_type": "code",
        "colab": {}
      },
      "source": [
        "state=\"60744253\"\n",
        "\n",
        "iteration=0\n",
        "while (energy_calculation(state)!=0 and iteration<1000): #energy_calculation(state)!=0 or \n",
        "  next_state=evaluate_blocks(state)\n",
        "  energy_current = energy_calculation(state)\n",
        "  energy_next = energy_calculation(next_state)\n",
        "  print(\"Current_state is {} and next state is {} Energy of them is {} and {} respectively\".format(state,next_state,energy_current,energy_next))\n",
        "  \n",
        "  if (energy_current-energy_next <=0):\n",
        "    print(\"Best State is : {} and Iteration is {}, Now we are doing Random Restart\".format(state,iteration))\n",
        "    next_state=random_restart()\n",
        "  if (energy_next==0):\n",
        "    print(\"Best state Has been found and it is {} with cost {}\".format(next_state, energy_next))\n",
        "  state=next_state\n",
        "  iteration+=1\n",
        "  print(iteration)\n"
      ],
      "execution_count": null,
      "outputs": []
    }
  ]
}