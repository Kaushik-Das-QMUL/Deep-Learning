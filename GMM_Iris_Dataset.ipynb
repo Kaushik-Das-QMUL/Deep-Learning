{
  "nbformat": 4,
  "nbformat_minor": 0,
  "metadata": {
    "colab": {
      "name": "GMM_Iris_Dataset.ipynb",
      "provenance": [],
      "collapsed_sections": []
    },
    "kernelspec": {
      "name": "python3",
      "display_name": "Python 3"
    }
  },
  "cells": [
    {
      "cell_type": "code",
      "metadata": {
        "id": "xAPS3YogyRRw"
      },
      "source": [
        "import numpy as np\n",
        "import pandas as pd\n",
        "import matplotlib.pyplot as plt\n",
        "import seaborn as sns\n",
        "sns.set_style('darkgrid')"
      ],
      "execution_count": 1,
      "outputs": []
    },
    {
      "cell_type": "code",
      "metadata": {
        "colab": {
          "base_uri": "https://localhost:8080/",
          "height": 203
        },
        "id": "GlOELZ9eGsS_",
        "outputId": "7440a9e7-ecff-4f2d-9d83-136aab13e167"
      },
      "source": [
        "Iris_Df = pd.read_csv('/content/Iris.csv')\n",
        "Iris_Df.drop(['Id'], axis = 'columns', inplace =True)\n",
        "Iris_Df.head()"
      ],
      "execution_count": 2,
      "outputs": [
        {
          "output_type": "execute_result",
          "data": {
            "text/html": [
              "<div>\n",
              "<style scoped>\n",
              "    .dataframe tbody tr th:only-of-type {\n",
              "        vertical-align: middle;\n",
              "    }\n",
              "\n",
              "    .dataframe tbody tr th {\n",
              "        vertical-align: top;\n",
              "    }\n",
              "\n",
              "    .dataframe thead th {\n",
              "        text-align: right;\n",
              "    }\n",
              "</style>\n",
              "<table border=\"1\" class=\"dataframe\">\n",
              "  <thead>\n",
              "    <tr style=\"text-align: right;\">\n",
              "      <th></th>\n",
              "      <th>SepalLengthCm</th>\n",
              "      <th>SepalWidthCm</th>\n",
              "      <th>PetalLengthCm</th>\n",
              "      <th>PetalWidthCm</th>\n",
              "      <th>Species</th>\n",
              "    </tr>\n",
              "  </thead>\n",
              "  <tbody>\n",
              "    <tr>\n",
              "      <th>0</th>\n",
              "      <td>5.1</td>\n",
              "      <td>3.5</td>\n",
              "      <td>1.4</td>\n",
              "      <td>0.2</td>\n",
              "      <td>Iris-setosa</td>\n",
              "    </tr>\n",
              "    <tr>\n",
              "      <th>1</th>\n",
              "      <td>4.9</td>\n",
              "      <td>3.0</td>\n",
              "      <td>1.4</td>\n",
              "      <td>0.2</td>\n",
              "      <td>Iris-setosa</td>\n",
              "    </tr>\n",
              "    <tr>\n",
              "      <th>2</th>\n",
              "      <td>4.7</td>\n",
              "      <td>3.2</td>\n",
              "      <td>1.3</td>\n",
              "      <td>0.2</td>\n",
              "      <td>Iris-setosa</td>\n",
              "    </tr>\n",
              "    <tr>\n",
              "      <th>3</th>\n",
              "      <td>4.6</td>\n",
              "      <td>3.1</td>\n",
              "      <td>1.5</td>\n",
              "      <td>0.2</td>\n",
              "      <td>Iris-setosa</td>\n",
              "    </tr>\n",
              "    <tr>\n",
              "      <th>4</th>\n",
              "      <td>5.0</td>\n",
              "      <td>3.6</td>\n",
              "      <td>1.4</td>\n",
              "      <td>0.2</td>\n",
              "      <td>Iris-setosa</td>\n",
              "    </tr>\n",
              "  </tbody>\n",
              "</table>\n",
              "</div>"
            ],
            "text/plain": [
              "   SepalLengthCm  SepalWidthCm  PetalLengthCm  PetalWidthCm      Species\n",
              "0            5.1           3.5            1.4           0.2  Iris-setosa\n",
              "1            4.9           3.0            1.4           0.2  Iris-setosa\n",
              "2            4.7           3.2            1.3           0.2  Iris-setosa\n",
              "3            4.6           3.1            1.5           0.2  Iris-setosa\n",
              "4            5.0           3.6            1.4           0.2  Iris-setosa"
            ]
          },
          "metadata": {},
          "execution_count": 2
        }
      ]
    },
    {
      "cell_type": "code",
      "metadata": {
        "colab": {
          "base_uri": "https://localhost:8080/",
          "height": 282
        },
        "id": "7PKi0dQ4DDmY",
        "outputId": "13147695-77a0-4711-c5d2-8603bda87050"
      },
      "source": [
        "I = Iris_Df\n",
        "I.Species.unique()\n",
        "colors = {'Iris-setosa' : 'blue', 'Iris-versicolor' : 'green', 'Iris-virginica' : 'red'}\n",
        "I['color'] = I.Species.apply(lambda x : colors[x])\n",
        "plt.scatter(I['SepalWidthCm'], I['PetalWidthCm'], c = I['color'])"
      ],
      "execution_count": 18,
      "outputs": [
        {
          "output_type": "execute_result",
          "data": {
            "text/plain": [
              "<matplotlib.collections.PathCollection at 0x7f5af75b7910>"
            ]
          },
          "metadata": {},
          "execution_count": 18
        },
        {
          "output_type": "display_data",
          "data": {
            "image/png": "[encoded data removed]",
            "text/plain": [
              "<Figure size 432x288 with 1 Axes>"
            ]
          },
          "metadata": {
            "needs_background": "light"
          }
        }
      ]
    },
    {
      "cell_type": "code",
      "metadata": {
        "id": "E7lbywysy4n5",
        "colab": {
          "base_uri": "https://localhost:8080/",
          "height": 282
        },
        "outputId": "14a13666-1c44-4794-c1d3-318b5ada4464"
      },
      "source": [
        "df  = Iris_Df[['SepalWidthCm', 'PetalWidthCm']].copy(deep = True)\n",
        "plt.scatter(df['SepalWidthCm'], df['PetalWidthCm'], color = 'purple')"
      ],
      "execution_count": 4,
      "outputs": [
        {
          "output_type": "execute_result",
          "data": {
            "text/plain": [
              "<matplotlib.collections.PathCollection at 0x7f5af7e53c10>"
            ]
          },
          "metadata": {},
          "execution_count": 4
        },
        {
          "output_type": "display_data",
          "data": {
            "image/png": "[encoded data removed]",
            "text/plain": [
              "<Figure size 432x288 with 1 Axes>"
            ]
          },
          "metadata": {
            "needs_background": "light"
          }
        }
      ]
    },
    {
      "cell_type": "code",
      "metadata": {
        "colab": {
          "base_uri": "https://localhost:8080/"
        },
        "id": "UMxx7mb90MFg",
        "outputId": "da5da3e3-42a2-41db-f84d-8bade62d393e"
      },
      "source": [
        "mu_df = df.mean(axis = 0, skipna =True)\n",
        "sigma_df = df.std(axis = 0, skipna =True)\n",
        "\n",
        "normalization_dictionary = {}\n",
        "\n",
        "for i in range (df.shape[1]):\n",
        "  normalization_dictionary[mu_df.index[i]] = {}\n",
        "  normalization_dictionary[mu_df.index[i]]['mu'] = mu_df[i]\n",
        "  normalization_dictionary[mu_df.index[i]]['sigma'] = sigma_df[i]\n",
        "\n",
        "print(normalization_dictionary)"
      ],
      "execution_count": 5,
      "outputs": [
        {
          "output_type": "stream",
          "name": "stdout",
          "text": [
            "{'SepalWidthCm': {'mu': 3.0540000000000007, 'sigma': 0.4335943113621737}, 'PetalWidthCm': {'mu': 1.1986666666666672, 'sigma': 0.7631607417008414}}\n"
          ]
        }
      ]
    },
    {
      "cell_type": "code",
      "metadata": {
        "id": "5H9VOrLI3hpb",
        "colab": {
          "base_uri": "https://localhost:8080/",
          "height": 282
        },
        "outputId": "6123c836-dad6-4306-ddc3-c59b26451043"
      },
      "source": [
        "for key in normalization_dictionary.keys():\n",
        "  df[key]  = (df[key] - normalization_dictionary[key]['mu'])/ normalization_dictionary[key]['sigma']\n",
        "\n",
        "plt.scatter(df['SepalWidthCm'], df['PetalWidthCm'], color = 'orange')"
      ],
      "execution_count": 6,
      "outputs": [
        {
          "output_type": "execute_result",
          "data": {
            "text/plain": [
              "<matplotlib.collections.PathCollection at 0x7f5af70bfb90>"
            ]
          },
          "metadata": {},
          "execution_count": 6
        },
        {
          "output_type": "display_data",
          "data": {
            "image/png": "[encoded data removed]",
            "text/plain": [
              "<Figure size 432x288 with 1 Axes>"
            ]
          },
          "metadata": {
            "needs_background": "light"
          }
        }
      ]
    },
    {
      "cell_type": "code",
      "metadata": {
        "id": "LhYsx6Ml4VvJ"
      },
      "source": [
        "def to_numpy_array(df):\n",
        "  X = df.values\n",
        "  return (X)"
      ],
      "execution_count": 7,
      "outputs": []
    },
    {
      "cell_type": "code",
      "metadata": {
        "id": "4fiKypV441-P"
      },
      "source": [
        " np.random.seed(42)\n",
        "\n",
        "def initialization(X, number_of_clusters):\n",
        "  k = number_of_clusters\n",
        "  \n",
        "  \"\"\"phi_j is the Prior Probability\"\"\"\n",
        "  phi_j = np.full(shape = k, fill_value= 1/k)\n",
        "\n",
        "  \"\"\"w_ji is the Posterior Probability\"\"\"\n",
        "  w_ji = np.full(shape = (X.shape[0],k), fill_value = 1/k)\n",
        "\n",
        "  \"\"\"Take k random numbers in range 0 to the length of the DataFrame\"\"\"\n",
        "  random_row = np.random.randint(low = 0, high = X.shape[0], size=k)\n",
        "\n",
        "  \"\"\" Taking the observation of a random row as mean \"\"\"\n",
        "  mu = np.array([X[row_num,:] for row_num in random_row])   \n",
        "\n",
        "  \"\"\"Initialize Sigma with the cov matrix of the Dataframe ; stack it k times for k clusters\"\"\"\n",
        "\n",
        "  sigma = np.array([ np.cov(X.T) for _ in range(k) ])\n",
        "  return (phi_j, w_ji, mu, sigma)"
      ],
      "execution_count": 8,
      "outputs": []
    },
    {
      "cell_type": "code",
      "metadata": {
        "id": "qWODisWoKJph"
      },
      "source": [
        "# X = to_numpy_array(df)\n",
        "# phi_j, w_ji, mu, sigma = initialization(X ,3)\n",
        "# print(sigma)"
      ],
      "execution_count": 9,
      "outputs": []
    },
    {
      "cell_type": "code",
      "metadata": {
        "id": "CFW841Hryaht"
      },
      "source": [
        "from scipy.stats import multivariate_normal\n",
        "\n",
        "def calculate_W_ji (X, number_of_gaussian, phi_j, mu, sigma):\n",
        "\n",
        "  \"\"\" Dimension of phi_j: K x 1\n",
        "      Dimension of X is: n x 2\n",
        "      here, n = 150 \"\"\"\n",
        "\n",
        "  k = number_of_gaussian\n",
        "  likelihood = np.zeros((X.shape[0],k))\n",
        "  \n",
        "  \"\"\"\n",
        "    Calculate Multivariate Gaussian for all K clusters (1 at a time) for all Data points and \n",
        "    save it in likelihood array.\n",
        "\n",
        "    It calculates P(xi | zi = j ;\tθ)\n",
        "  \"\"\"\n",
        "  for i in range (k):\n",
        "    multivariate_gaussian = multivariate_normal(mean = mu[i], cov = sigma[i])\n",
        "    likelihood[:,i] = multivariate_gaussian.pdf(X)\n",
        "\n",
        "  \"\"\"Calculate the denominator of Bayes Theorem for all i (datapoints) and for all j(clusters)\"\"\"\n",
        "\n",
        "  prior_multiplied_by_likelihood = likelihood * phi_j       # Elementwise Product\n",
        "  \n",
        "  ## Dimension of likelihood (n x k)\n",
        "  ## Hence, Dimension of prior_multiplied_by_likelihood is also (n x k)\n",
        "\n",
        "  \"\"\"Calculate the numerator of Bayes Theorem ; Make sure to take sum along every row and then convert \n",
        "  it into a 2-D array of shape (n x 1); here n = 150 \"\"\"\n",
        "\n",
        "  sum_over_space_of_alternative_hypothesis = np.reshape((prior_multiplied_by_likelihood).sum(axis = 1),(-1,1))\n",
        "  \n",
        "  \"\"\"\n",
        "                  \"prior_multiplied_by_likelihood\"    || \"sum_over_space_of_alternative_hypothesis\"\n",
        "                                                      ||\n",
        "                     |cl-0 | cl-1 | cl-2 | cl-3  |    ||          |Sum of Denominator|\n",
        "                  -------------------------------     ||      ------------------------\n",
        "                 |D1:| p1  |  p2  | p3   |  p4   |    ||      |D1:|      p_1         |\n",
        "                  -------------------------------     ||      ------------------------\n",
        "                 |D2:| p5  |  p6  | p7   |  p8   |    ||      |D2:|      p_2         |\n",
        "                  -------------------------------     ||      ------------------------\n",
        "                 |D3:| p9  |  p10 | p11  |  p12  |    ||      |D3:|      p_3         |\n",
        "                  -------------------------------     ||      ------------------------\n",
        "\n",
        "                  p_1 = p1 + p2 + p3 + p4\n",
        "                  p_2 = p5 + p6 + p7 + p8\n",
        "                  p_3 = p9 + p10 + p11 + p12\n",
        "  \"\"\"\n",
        "  \n",
        "  W_ji_for_all_j  = prior_multiplied_by_likelihood / sum_over_space_of_alternative_hypothesis\n",
        "\n",
        "  \"\"\"Dimension of W_ji_for_all_j is n x k \"\"\"\n",
        "\n",
        "  return W_ji_for_all_j"
      ],
      "execution_count": 10,
      "outputs": []
    },
    {
      "cell_type": "code",
      "metadata": {
        "id": "itftEixk8oXr"
      },
      "source": [
        "def maximization_step (X, number_of_gaussian, phi_j, W_ji, mu, sigma):\n",
        "  phi_j = np.mean(W_ji, axis = 0)\n",
        "  n = number_of_gaussian\n",
        "  epsilon_identity_matrix = np.eye(2,2) * 0.0000001\n",
        "\n",
        "  \"\"\"Calculate mu, sigma for all the Gaussian; Total n Gaussians.\"\"\"\n",
        "\n",
        "  for i in range(n):\n",
        "    \n",
        "    numerator_for_mu = np.sum(X * np.reshape(W_ji[ :, i],(-1,1)) , axis = 0)\n",
        "    \n",
        "\n",
        "    numerator_for_cov = ((np.reshape(W_ji[ :, i],(-1,1)) * (X-mu[i])).T).dot(X-mu[i])\n",
        "\n",
        "    total_weight = np.sum(W_ji[ :, i])\n",
        "\n",
        "    mu[i] = numerator_for_mu / total_weight\n",
        "    sigma[i] = (numerator_for_cov / total_weight) + epsilon_identity_matrix\n",
        "\n",
        "    # sigma[i] = np.cov((X).T, aweights=(np.reshape(W_ji[ :, i],(-1,1))/total_weight).flatten(), bias=True)\n",
        "\n",
        "  return phi_j, mu, sigma"
      ],
      "execution_count": 11,
      "outputs": []
    },
    {
      "cell_type": "code",
      "metadata": {
        "id": "CJnpD7pNIKMl"
      },
      "source": [
        "def expectation_maximization_assemble(df):\n",
        "  \n",
        "  clusters = 3\n",
        "  max_iteration = 250\n",
        "  X = to_numpy_array(df)\n",
        "\n",
        "  \"\"\"\n",
        "  If k is the total number of clusters then:\n",
        "  Initialize the Prior Probability Phi_j = 1/k (Dimension : 1 x k)\n",
        "  Posterior Probability w_ji = 1/ k (Dimension : n x k)\n",
        "  mu (Dimension : k x #features) :randomly\n",
        "  sigma (Dimension : k x #features x #features) :randomly\n",
        "\n",
        "  \"\"\"\n",
        "\n",
        "  phi_j, w_ji, mu, sigma  = initialization(X, clusters)\n",
        "\n",
        "  for i in range(max_iteration):\n",
        "\n",
        "    \"\"\"Expectation (E) Step: Calculate the Posterior Probability P(zi = j | xi)\"\"\"\n",
        "    w_ji = calculate_W_ji (X, clusters, phi_j, mu, sigma)\n",
        "\n",
        "    \"\"\"Maximization (M) Step: Update (Improve) the parameters phi_j, mu, sigma\"\"\"\n",
        "    phi_j, mu, sigma = maximization_step (X, clusters, phi_j, w_ji, mu, sigma)\n",
        "\n",
        "  #Out of For Loop.\n",
        "\n",
        "  #Final Prediction\n",
        "  \"\"\"From the estimated parameters (phi_j, mu, sigma), Calculate the Posterior Probabilty\"\"\"\n",
        "  w_ji = calculate_W_ji (X, clusters, phi_j, mu, sigma)\n",
        "\n",
        "  \"\"\"Take the Gaussian which gives the highest probabilty for P(zi =j | xi ; θ).\"\"\"\n",
        "  predicted_class = np.argmax(w_ji, axis =1)\n",
        "\n",
        "  return predicted_class , phi_j, mu, sigma"
      ],
      "execution_count": 12,
      "outputs": []
    },
    {
      "cell_type": "code",
      "metadata": {
        "id": "g8HMZ5dEWCxX"
      },
      "source": [
        "# X = to_numpy_array(df)\n",
        "predicted_class, phi_j, mu, sigma = expectation_maximization_assemble(df)"
      ],
      "execution_count": 13,
      "outputs": []
    },
    {
      "cell_type": "code",
      "metadata": {
        "colab": {
          "base_uri": "https://localhost:8080/"
        },
        "id": "Ht2oyuDRD4Nk",
        "outputId": "e717279b-6380-4aa3-f4bf-e9f28a5c4ea9"
      },
      "source": [
        "print(phi_j)"
      ],
      "execution_count": 14,
      "outputs": [
        {
          "output_type": "stream",
          "name": "stdout",
          "text": [
            "[0.40293406 0.2637354  0.33333054]\n"
          ]
        }
      ]
    },
    {
      "cell_type": "code",
      "metadata": {
        "colab": {
          "base_uri": "https://localhost:8080/"
        },
        "id": "5zlQMO_8H4U6",
        "outputId": "92b5b8b0-6f5f-4bdd-b0cb-2f2cd8c94538"
      },
      "source": [
        "print(predicted_class)\n",
        "unique, counts = np.unique(predicted_class, return_counts=True)\n",
        "dict(zip(unique, counts))"
      ],
      "execution_count": 15,
      "outputs": [
        {
          "output_type": "stream",
          "name": "stdout",
          "text": [
            "[2 2 2 2 2 2 2 2 2 2 2 2 2 2 2 2 2 2 2 2 2 2 2 2 2 2 2 2 2 2 2 2 2 2 2 2 2\n",
            " 2 2 2 2 2 2 2 2 2 2 2 2 2 1 1 1 0 0 1 1 1 1 1 1 1 1 1 1 1 1 1 0 1 0 1 0 1\n",
            " 1 1 1 0 1 1 1 1 1 0 1 1 1 0 1 1 1 1 1 1 1 1 1 1 1 1 0 0 0 0 0 0 0 0 0 0 0\n",
            " 0 0 0 0 0 0 0 0 0 0 0 0 0 0 0 0 0 0 0 0 0 0 0 0 0 0 0 0 0 0 0 0 0 0 0 0 0\n",
            " 0 0]\n"
          ]
        },
        {
          "output_type": "execute_result",
          "data": {
            "text/plain": [
              "{0: 58, 1: 42, 2: 50}"
            ]
          },
          "metadata": {},
          "execution_count": 15
        }
      ]
    },
    {
      "cell_type": "code",
      "metadata": {
        "id": "-Bb0h7NTFeyu"
      },
      "source": [
        "L = to_numpy_array(df)\n",
        "a = np.concatenate((L, np.reshape(predicted_class, (-1,1)) ), axis = 1)"
      ],
      "execution_count": 16,
      "outputs": []
    },
    {
      "cell_type": "code",
      "metadata": {
        "colab": {
          "base_uri": "https://localhost:8080/",
          "height": 282
        },
        "id": "you8tIABVzg4",
        "outputId": "168e1d5b-a31c-43af-8bf4-81d6bf519a11"
      },
      "source": [
        "df_predict = pd.DataFrame(a, columns =['SepalWidthCm','PetalWidthCm','c'])\n",
        "colors = {0: 'red', 1:'green', 2:'blue'}\n",
        "plt.scatter(df_predict['SepalWidthCm'], df_predict['PetalWidthCm'], \n",
        "            c = df_predict['c'].apply(lambda x :colors[x]))"
      ],
      "execution_count": 17,
      "outputs": [
        {
          "output_type": "execute_result",
          "data": {
            "text/plain": [
              "<matplotlib.collections.PathCollection at 0x7f5af5db4190>"
            ]
          },
          "metadata": {},
          "execution_count": 17
        },
        {
          "output_type": "display_data",
          "data": {
            "image/png": "[encoded data removed]",
            "text/plain": [
              "<Figure size 432x288 with 1 Axes>"
            ]
          },
          "metadata": {
            "needs_background": "light"
          }
        }
      ]
    }
  ]
}