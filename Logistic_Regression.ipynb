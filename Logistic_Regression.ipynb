{
  "nbformat": 4,
  "nbformat_minor": 0,
  "metadata": {
    "colab": {
      "name": "Logistic_Regression.ipynb",
      "provenance": [],
      "collapsed_sections": [],
      "toc_visible": true
    },
    "kernelspec": {
      "name": "python3",
      "display_name": "Python 3"
    }
  },
  "cells": [
    {
      "cell_type": "code",
      "metadata": {
        "id": "eMP1KqshE0o8",
        "colab_type": "code",
        "colab": {}
      },
      "source": [
        "import pandas as pd\n",
        "from sklearn.model_selection import train_test_split as tts\n",
        "import numpy as np\n",
        "\n",
        "data=pd.read_csv('data.csv')\n",
        "data.drop(data.columns[0], axis=1, inplace=True)\n",
        "diagnosis_mapper={'M' :1, 'B' :0}\n",
        "data['diagnosis']=data['diagnosis'].map(diagnosis_mapper)\n",
        "X=data.iloc[:,1:]\n",
        "Y=data.iloc[:,0]\n",
        "y=Y.to_numpy()"
      ],
      "execution_count": null,
      "outputs": []
    },
    {
      "cell_type": "code",
      "metadata": {
        "id": "m5TP9GkybKwZ",
        "colab_type": "code",
        "colab": {
          "base_uri": "https://localhost:8080/",
          "height": 35
        },
        "outputId": "1c55a910-811a-466a-a405-577ebe8777f4"
      },
      "source": [
        "def remove_correlated_variables(X):\n",
        "  cov=X.corr()\n",
        "  length=X.shape[1]\n",
        "\n",
        "  drop_column_list=np.full(cov.shape[1],False,dtype=bool)\n",
        "  for i in range (length):\n",
        "    for j in range (i+1,length):\n",
        "      if (cov.iloc[i,j]>.9):\n",
        "        drop_column_list[j]=True\n",
        "\n",
        "  columns_to_be_dropped=X.columns[drop_column_list]\n",
        "  X.drop(columns_to_be_dropped, axis=1, inplace=True)\n",
        "  return X\n",
        "after_cor_rmv=remove_correlated_variables(X)\n",
        "print(X.shape[1])\n"
      ],
      "execution_count": null,
      "outputs": [
        {
          "output_type": "stream",
          "text": [
            "20\n"
          ],
          "name": "stdout"
        }
      ]
    },
    {
      "cell_type": "code",
      "metadata": {
        "id": "doeGhdBXjyKt",
        "colab_type": "code",
        "colab": {}
      },
      "source": [
        "import statsmodels.api as sm\n",
        "\n",
        "def remove_less_significant_features(X, Y):\n",
        "  sl = 0.05\n",
        "  regression_ols = None\n",
        "  columns_dropped = np.array([])\n",
        "  for itr in range(0, (X.shape[1])):\n",
        "    regression_ols = sm.OLS(Y, X).fit()\n",
        "    max_col = regression_ols.pvalues.idxmax()\n",
        "    max_val = regression_ols.pvalues.max()\n",
        "    print(max_col)\n",
        "    if max_val > sl:\n",
        "      X.drop(max_col, axis=1, inplace=True)\n",
        "      columns_dropped = np.append(columns_dropped, [max_col])\n",
        "    else:\n",
        "      break\n",
        "  regression_ols.summary()\n",
        "  return X\n",
        "\n",
        "final_data=remove_less_significant_features(after_cor_rmv,Y)\n",
        "final_data.head()\n"
      ],
      "execution_count": null,
      "outputs": []
    },
    {
      "cell_type": "code",
      "metadata": {
        "id": "ajXuaC0NNhDx",
        "colab_type": "code",
        "colab": {}
      },
      "source": [
        "import math\n",
        "def calculate_sigmoid(hypothesis):\n",
        "  return (1/(1+ math.e**(-hypothesis)))\n"
      ],
      "execution_count": null,
      "outputs": []
    },
    {
      "cell_type": "code",
      "metadata": {
        "id": "P4v8wr1gPsRH",
        "colab_type": "code",
        "colab": {}
      },
      "source": [
        "def calculate_hypothesis(theta,x,i):\n",
        "  h_theta = np.dot(theta,x[i])\n",
        "  a = calculate_sigmoid(h_theta)\n",
        "  return a"
      ],
      "execution_count": null,
      "outputs": []
    },
    {
      "cell_type": "code",
      "metadata": {
        "id": "tPkLaTaLQBaZ",
        "colab_type": "code",
        "colab": {}
      },
      "source": [
        "j=0\n",
        "list_=np.zeros((final_data.shape[0],final_data.shape[1]))\n",
        "for col in final_data.columns:\n",
        "  list_[:,j]=final_data[col]\n",
        "  j+=1\n",
        "print(list_)"
      ],
      "execution_count": null,
      "outputs": []
    },
    {
      "cell_type": "code",
      "metadata": {
        "id": "WQ5DVAGkSLRw",
        "colab_type": "code",
        "colab": {}
      },
      "source": [
        "def normalize_data_with_bias(list_):\n",
        "  N = list_.shape[0]\n",
        "  mu = np.mean(list_, axis=0)\n",
        "  sigma = np.std(list_,axis=0)\n",
        "\n",
        "  mu_vector =  np.expand_dims(mu, axis=0)\n",
        "  sigma_vector = np.expand_dims(sigma, axis=0)\n",
        "\n",
        "  ndim_mu = np.repeat(mu_vector, N, axis=0)\n",
        "  ndim_sigma = np.repeat(sigma_vector, N, axis=0)\n",
        "\n",
        "  normalized_list = (list_ -  ndim_mu)/ ndim_sigma\n",
        "  bias = np.ones((list_.shape[0],1))\n",
        "\n",
        "  normalized_data_with_bias = np.append(bias,normalized_list, axis=1)\n",
        "  \n",
        "  return mu_vector, sigma_vector, normalized_data_with_bias\n",
        "\n",
        "mean, sd, data_= normalize_data_with_bias(list_)\n"
      ],
      "execution_count": null,
      "outputs": []
    },
    {
      "cell_type": "code",
      "metadata": {
        "id": "ggklDFkYdVtI",
        "colab_type": "code",
        "colab": {}
      },
      "source": [
        "def calculate_cost(X_train, y_train, theta):\n",
        "  N=X_train.shape[0]\n",
        "  cost=0\n",
        "\n",
        "  for i in range (N):\n",
        "    prediction = calculate_hypothesis(theta, X_train, i)\n",
        "    label = y_train[i]\n",
        "    cost += -(y_train[i]*np.log(prediction + .0001)+(1-y_train[i])*np.log(1-prediction +.0001))\n",
        "  cost /= N\n",
        "\n",
        "  return cost"
      ],
      "execution_count": null,
      "outputs": []
    },
    {
      "cell_type": "code",
      "metadata": {
        "id": "reJ7L0KpXQd_",
        "colab_type": "code",
        "colab": {}
      },
      "source": [
        "def gradient_descent(X_train, y_train, theta, max_iteration, alpha):\n",
        "\n",
        "  cost_vector=np.array([], dtype=np.float32)\n",
        "\n",
        "  length_of_data = X_train.shape[0]\n",
        "  length_of_theta = len(theta)\n",
        "\n",
        "  sum_over_del_j_theta_d_theta_k = np.zeros(length_of_theta)\n",
        "\n",
        "  for iteration in range (max_iteration):\n",
        "\n",
        "    J = calculate_cost(X_train, y_train, theta)\n",
        "    cost_vector = np.append(cost_vector,J)\n",
        "\n",
        "    for i in range (length_of_data):\n",
        "      a = calculate_hypothesis(theta, X_train, i)\n",
        "      \n",
        "      for k in range (length_of_theta):\n",
        "        sum_over_del_j_theta_d_theta_k[k] += (a - y_train[i])*X_train[i][k]\n",
        "\n",
        "      for j in range (length_of_theta):\n",
        "        theta[j] = theta[j] - (alpha / length_of_data) * sum_over_del_j_theta_d_theta_k[j]\n",
        "\n",
        "  plot_cost(cost_vector)\n",
        "  return theta\n"
      ],
      "execution_count": null,
      "outputs": []
    },
    {
      "cell_type": "code",
      "metadata": {
        "id": "S0A36mAdn4OT",
        "colab_type": "code",
        "colab": {}
      },
      "source": [
        "import matplotlib.pyplot as plt\n",
        "\n",
        "def plot_cost(cost_vector):\n",
        "  fig, axis= plt.subplots()\n",
        "  axis.set_xlabel('Iteration')\n",
        "  axis.set_ylabel('cost')\n",
        "  plt.plot(cost_vector)"
      ],
      "execution_count": null,
      "outputs": []
    },
    {
      "cell_type": "code",
      "metadata": {
        "id": "lny4oh0llMcA",
        "colab_type": "code",
        "colab": {}
      },
      "source": [
        "def labelling(output):\n",
        "  if output >= 0.5:\n",
        "    return 1\n",
        "  return 0"
      ],
      "execution_count": null,
      "outputs": []
    },
    {
      "cell_type": "code",
      "metadata": {
        "id": "PfBqAeWKkYzJ",
        "colab_type": "code",
        "colab": {
          "base_uri": "https://localhost:8080/",
          "height": 487
        },
        "outputId": "6ba37377-e42b-4c7a-e50a-dd7b0694a165"
      },
      "source": [
        "from sklearn.metrics import accuracy_score, recall_score, precision_score\n",
        "theta = np.zeros(data_.shape[1])\n",
        "\n",
        "X_train, X_test, y_train, y_test = tts(data_, y, test_size=0.2, random_state=42)\n",
        "theta_final=gradient_descent(X_train, y_train, theta, 100, .00005)\n",
        "\n",
        "y_train_predicted = np.array([])\n",
        "for i in range(X_train.shape[0]):\n",
        "    yp = labelling(np.dot(X_train[i], theta_final))\n",
        "    y_train_predicted = np.append(y_train_predicted, yp)\n",
        "    \n",
        "print(\"*********************************************************\")\n",
        "print(\"*********************************************************\")\n",
        "print(\"*********************************************************\")\n",
        "\n",
        "print(\"accuracy on test dataset: {}\".format(accuracy_score(y_train, y_train_predicted)))\n",
        "print(\"recall on test dataset: {}\".format(recall_score(y_train, y_train_predicted)))\n",
        "print(\"precision on test dataset: {}\".format(recall_score(y_train, y_train_predicted)))\n",
        "\n",
        "print(\"*********************************************************\")\n",
        "print(\"*********************************************************\")\n",
        "print(\"*********************************************************\")\n",
        "\n",
        "y_test_predicted = np.array([])\n",
        "for i in range(X_test.shape[0]):\n",
        "    yp = labelling(np.dot(X_test[i], theta_final))\n",
        "    y_test_predicted = np.append(y_test_predicted, yp)\n",
        "\n",
        "print(\"accuracy on test dataset: {}\".format(accuracy_score(y_test, y_test_predicted)))\n",
        "print(\"recall on test dataset: {}\".format(recall_score(y_test, y_test_predicted)))\n",
        "print(\"precision on test dataset: {}\".format(recall_score(y_test, y_test_predicted)))"
      ],
      "execution_count": null,
      "outputs": [
        {
          "output_type": "stream",
          "text": [
            "*********************************************************\n",
            "*********************************************************\n",
            "*********************************************************\n",
            "accuracy on test dataset: 0.9758241758241758\n",
            "recall on test dataset: 0.9467455621301775\n",
            "precision on test dataset: 0.9467455621301775\n",
            "*********************************************************\n",
            "*********************************************************\n",
            "*********************************************************\n",
            "accuracy on test dataset: 0.9824561403508771\n",
            "recall on test dataset: 0.9767441860465116\n",
            "precision on test dataset: 0.9767441860465116\n"
          ],
          "name": "stdout"
        },
        {
          "output_type": "display_data",
          "data": {
            "image/png": "[encoded data removed]",
            "text/plain": [
              "<Figure size 432x288 with 1 Axes>"
            ]
          },
          "metadata": {
            "tags": []
          }
        }
      ]
    }
  ]
}