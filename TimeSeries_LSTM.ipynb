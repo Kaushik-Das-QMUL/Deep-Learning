{
  "nbformat": 4,
  "nbformat_minor": 0,
  "metadata": {
    "colab": {
      "name": "TimeSeries_Bitcoin_Data.ipynb",
      "provenance": [],
      "collapsed_sections": []
    },
    "kernelspec": {
      "name": "python3",
      "display_name": "Python 3"
    }
  },
  "cells": [
    {
      "cell_type": "code",
      "metadata": {
        "id": "iD1AW_I5RbDL"
      },
      "source": [
        "import numpy as np\n",
        "import pandas as pd\n",
        "import seaborn as sns\n",
        "import matplotlib.pyplot as plt"
      ],
      "execution_count": null,
      "outputs": []
    },
    {
      "cell_type": "code",
      "metadata": {
        "colab": {
          "base_uri": "https://localhost:8080/",
          "height": 203
        },
        "id": "oxhrjdZq_KX5",
        "outputId": "2a1d890f-0d74-40a2-f80a-84fe1e2c21df"
      },
      "source": [
        "df = pd.read_csv('/content/dummy.csv')\n",
        "last_day = pd.DataFrame(df.iloc[-1 :])\n",
        "last_day['Date'] = pd.to_datetime(last_day['Date']) + pd.Timedelta(days=1)\n",
        "df = pd.concat([df, last_day], axis = 0)\n",
        "df.reset_index(drop = True, inplace = True)\n",
        "df.tail()"
      ],
      "execution_count": null,
      "outputs": [
        {
          "output_type": "execute_result",
          "data": {
            "text/html": [
              "<div>\n",
              "<style scoped>\n",
              "    .dataframe tbody tr th:only-of-type {\n",
              "        vertical-align: middle;\n",
              "    }\n",
              "\n",
              "    .dataframe tbody tr th {\n",
              "        vertical-align: top;\n",
              "    }\n",
              "\n",
              "    .dataframe thead th {\n",
              "        text-align: right;\n",
              "    }\n",
              "</style>\n",
              "<table border=\"1\" class=\"dataframe\">\n",
              "  <thead>\n",
              "    <tr style=\"text-align: right;\">\n",
              "      <th></th>\n",
              "      <th>Date</th>\n",
              "      <th>Open</th>\n",
              "      <th>High</th>\n",
              "      <th>Low</th>\n",
              "      <th>Close</th>\n",
              "      <th>Adj Close</th>\n",
              "      <th>Volume</th>\n",
              "    </tr>\n",
              "  </thead>\n",
              "  <tbody>\n",
              "    <tr>\n",
              "      <th>1230</th>\n",
              "      <td>2021-11-02</td>\n",
              "      <td>228.000000</td>\n",
              "      <td>235.000000</td>\n",
              "      <td>227.250000</td>\n",
              "      <td>228.500000</td>\n",
              "      <td>228.500000</td>\n",
              "      <td>91597155</td>\n",
              "    </tr>\n",
              "    <tr>\n",
              "      <th>1231</th>\n",
              "      <td>2021-11-03</td>\n",
              "      <td>230.000000</td>\n",
              "      <td>230.899994</td>\n",
              "      <td>226.199997</td>\n",
              "      <td>228.800003</td>\n",
              "      <td>228.800003</td>\n",
              "      <td>49974804</td>\n",
              "    </tr>\n",
              "    <tr>\n",
              "      <th>1232</th>\n",
              "      <td>2021-11-04</td>\n",
              "      <td>231.800003</td>\n",
              "      <td>233.149994</td>\n",
              "      <td>230.600006</td>\n",
              "      <td>231.350006</td>\n",
              "      <td>231.350006</td>\n",
              "      <td>14860447</td>\n",
              "    </tr>\n",
              "    <tr>\n",
              "      <th>1233</th>\n",
              "      <td>2021-11-08</td>\n",
              "      <td>233.000000</td>\n",
              "      <td>235.649994</td>\n",
              "      <td>228.750000</td>\n",
              "      <td>234.550003</td>\n",
              "      <td>234.550003</td>\n",
              "      <td>53847194</td>\n",
              "    </tr>\n",
              "    <tr>\n",
              "      <th>1234</th>\n",
              "      <td>2021-11-09 00:00:00</td>\n",
              "      <td>233.000000</td>\n",
              "      <td>235.649994</td>\n",
              "      <td>228.750000</td>\n",
              "      <td>234.550003</td>\n",
              "      <td>234.550003</td>\n",
              "      <td>53847194</td>\n",
              "    </tr>\n",
              "  </tbody>\n",
              "</table>\n",
              "</div>"
            ],
            "text/plain": [
              "                     Date        Open  ...   Adj Close    Volume\n",
              "1230           2021-11-02  228.000000  ...  228.500000  91597155\n",
              "1231           2021-11-03  230.000000  ...  228.800003  49974804\n",
              "1232           2021-11-04  231.800003  ...  231.350006  14860447\n",
              "1233           2021-11-08  233.000000  ...  234.550003  53847194\n",
              "1234  2021-11-09 00:00:00  233.000000  ...  234.550003  53847194\n",
              "\n",
              "[5 rows x 7 columns]"
            ]
          },
          "metadata": {},
          "execution_count": 281
        }
      ]
    },
    {
      "cell_type": "code",
      "metadata": {
        "id": "ecZRqCPUSjvL",
        "colab": {
          "base_uri": "https://localhost:8080/",
          "height": 402
        },
        "outputId": "86df861e-644f-4f1a-d1ef-2bfe00adec7b"
      },
      "source": [
        "df_close = pd.DataFrame(df['Low'])\n",
        "df_close.index = pd.to_datetime(df['Date'])\n",
        "df_close.head()\n",
        "\n",
        "sns.relplot(x='Date',y='Low', kind='line',data=df_close)\n",
        "plt.xticks(rotation=45)\n",
        "plt.plot()"
      ],
      "execution_count": null,
      "outputs": [
        {
          "output_type": "execute_result",
          "data": {
            "text/plain": [
              "[]"
            ]
          },
          "metadata": {},
          "execution_count": 282
        },
        {
          "output_type": "display_data",
          "data": {
            "image/png": "[encoded data removed]",
            "text/plain": [
              "<Figure size 360x360 with 1 Axes>"
            ]
          },
          "metadata": {}
        }
      ]
    },
    {
      "cell_type": "markdown",
      "metadata": {
        "id": "_YBmeATVXNB5"
      },
      "source": [
        "Auto Correlation Plot"
      ]
    },
    {
      "cell_type": "code",
      "metadata": {
        "id": "gOuTjFcMXLVD",
        "colab": {
          "base_uri": "https://localhost:8080/",
          "height": 442
        },
        "outputId": "8a5b6249-71a6-4b7d-ab09-bb40e574e1c6"
      },
      "source": [
        "from statsmodels.tsa import stattools\n",
        "acf,_,_,_ = stattools.acf(df_close,unbiased=True,nlags=50,qstat=True,fft=True,alpha = 0.05)\n",
        "#acf is a numpy ndarray\n",
        "sns.set_style(\"darkgrid\")\n",
        "sns.relplot(pd.Series(acf).index, pd.Series(acf).values, kind='line')"
      ],
      "execution_count": null,
      "outputs": [
        {
          "output_type": "stream",
          "name": "stderr",
          "text": [
            "/usr/local/lib/python3.7/dist-packages/seaborn/_decorators.py:43: FutureWarning: Pass the following variables as keyword args: x, y. From version 0.12, the only valid positional argument will be `data`, and passing other arguments without an explicit keyword will result in an error or misinterpretation.\n",
            "  FutureWarning\n"
          ]
        },
        {
          "output_type": "execute_result",
          "data": {
            "text/plain": [
              "<seaborn.axisgrid.FacetGrid at 0x7fb8e2ecd7d0>"
            ]
          },
          "metadata": {},
          "execution_count": 283
        },
        {
          "output_type": "display_data",
          "data": {
            "image/png": "[encoded data removed]",
            "text/plain": [
              "<Figure size 360x360 with 1 Axes>"
            ]
          },
          "metadata": {}
        }
      ]
    },
    {
      "cell_type": "code",
      "metadata": {
        "id": "oZC3jWcWh47M"
      },
      "source": [
        "# list_of_previous_t_instants = [i for i in range(1,16)]\n",
        "# list_of_previous_t_instants.sort()\n",
        "# #print(list_of_previous_t_instants)\n",
        "# start = list_of_previous_t_instants[-1]\n",
        "# end = len(df_close)\n",
        "# #print(start,end)\n",
        "# attribute = ['Close']\n",
        "\n",
        "# df_close['Date'] = df_close.index\n",
        "\n",
        "\n",
        "# column = df_close.iloc[start : end]         #It keeps 'Date' column which will be used as an Index later \n",
        "# column.reset_index(drop=True, inplace=True)\n",
        "\n",
        "# for feature in attribute:\n",
        "#   previous_days_record_df = pd.DataFrame()\n",
        "\n",
        "#   for time in list_of_previous_t_instants:  #15 Instances from auto-correlation function\n",
        "#     new_column = df_close[feature].iloc[(start - time) : (end-time)]\n",
        "    \n",
        "#     new_column.reset_index(drop=True, inplace=True) #Very Important Before concatenation; Drop removes the Index column\n",
        "\n",
        "#     previous_days_record_df = pd.concat([previous_days_record_df,new_column], axis=1)\n",
        "#     previous_days_record_df.rename(columns = {feature : '{}-{}'.format(feature,time)}, inplace=True)\n",
        "\n",
        "#   column = pd.concat([column,previous_days_record_df], axis = 1)\n",
        "# column.set_index(['Date'], drop=True, inplace=True) #Drop = True makes sure to drop the column which is being used as index.\n",
        "# #column.head()\n",
        "# #column.shape\n",
        "# print(column)"
      ],
      "execution_count": null,
      "outputs": []
    },
    {
      "cell_type": "code",
      "metadata": {
        "id": "iwBXDYZA6q2p"
      },
      "source": [
        "df_close.head()\n",
        "\n",
        "n_past = 8\n",
        "n_future = 1\n",
        "\n",
        "def prepare_data(dataframe, n_past, n_future):\n",
        "\n",
        "  X, Y = list(), list()\n",
        "\n",
        "  end = len(dataframe)\n",
        "  for window in range(end):\n",
        "    past_end = window + n_past \n",
        "    future_end = past_end + n_future\n",
        "\n",
        "    if (future_end > end):\n",
        "      break\n",
        "    past_data, future_data = dataframe[window:past_end ], dataframe[past_end:future_end]\n",
        "    # print(len(dataframe[window:past_end]))\n",
        "    # print(type(dataframe))\n",
        "    X.append(past_data)\n",
        "    Y.append(future_data)\n",
        "\n",
        "  return (np.array(X), np.array(Y))\n",
        "\n",
        "X_Data, Y_Data = prepare_data(df_close.values, n_past, n_future)"
      ],
      "execution_count": null,
      "outputs": []
    },
    {
      "cell_type": "code",
      "metadata": {
        "id": "2Zp-QTQq-zjC"
      },
      "source": [
        "print(X_Data.shape)\n",
        "print(Y_Data.shape)\n",
        "#print(X_Data)\n",
        "\n",
        "#Why Sqeeze? \n",
        "\n",
        "X_Data = np.squeeze(X_Data)\n",
        "Y_Data = np.squeeze(Y_Data)\n",
        "\n",
        "\n",
        "print(X_Data.shape)\n",
        "print(Y_Data.shape)"
      ],
      "execution_count": null,
      "outputs": []
    },
    {
      "cell_type": "markdown",
      "metadata": {
        "id": "j8eHjjq-VdY8"
      },
      "source": [
        "**SPLIT DATASET**"
      ]
    },
    {
      "cell_type": "code",
      "metadata": {
        "id": "Z3SlftrRVi6I"
      },
      "source": [
        "test_split = 0.10\n",
        "\n",
        "X_Train, Y_Train = X_Data[:int(np.floor((1-test_split)*len(X_Data)))],Y_Data[:int(np.floor((1-test_split)*len(Y_Data)))]\n",
        "X_Test, Y_Test  = X_Data[int(np.floor((1-test_split)*len(X_Data))):], Y_Data[int(np.floor((1-test_split)*len(Y_Data))) :]"
      ],
      "execution_count": null,
      "outputs": []
    },
    {
      "cell_type": "code",
      "metadata": {
        "id": "Jsqw6QYpdZEd"
      },
      "source": [
        "from sklearn.preprocessing import MinMaxScaler\n",
        "Target_Scalar = MinMaxScaler(feature_range=(0.01,0.99))\n",
        "Feature_Scalar = MinMaxScaler(feature_range=(0.01,0.99))\n",
        "\n",
        "X_Train = Feature_Scalar.fit_transform(X_Train)\n",
        "X_Test =  Feature_Scalar.fit_transform(X_Test)\n",
        "\n",
        "Y_Train = Target_Scalar.fit_transform(np.reshape(Y_Train,(-1,1))) #fit_transform needs 2-D Array. Hence Resape.\n",
        "Y_Test =  Target_Scalar.fit_transform(np.reshape(Y_Test ,(-1,1)))\n",
        "\n",
        "#Currently, our data is in the form: [samples, features]\n",
        "#and we are framing the problem as 15 time step for each sample.\n",
        "#reshape input to be [samples, time steps, features]\n",
        "\n",
        "X_Train = np.reshape(X_Train, (X_Train.shape[0],  X_Train.shape[1], 1))\n",
        "X_Test =  np.reshape(X_Test, (X_Test.shape[0], X_Test.shape[1], 1))\n",
        "\n",
        "#print(X_Train)"
      ],
      "execution_count": null,
      "outputs": []
    },
    {
      "cell_type": "code",
      "metadata": {
        "id": "9j6BueploZPf",
        "colab": {
          "base_uri": "https://localhost:8080/"
        },
        "outputId": "56035cec-498e-4a35-af5b-9fd68831f2c2"
      },
      "source": [
        "print(X_Train.shape)"
      ],
      "execution_count": null,
      "outputs": [
        {
          "output_type": "stream",
          "name": "stdout",
          "text": [
            "(1214, 8, 1)\n"
          ]
        }
      ]
    },
    {
      "cell_type": "markdown",
      "metadata": {
        "id": "mWDUADvhD-lg"
      },
      "source": [
        "**Model Architecture: Input of a LSTM's shape (n_timesteps x n_features). Here n_timesteps =15 i.e.\n",
        "i.e. previous 15 day's data to predict next day's price and n_features =1 because Closing Price is the only feature here.**"
      ]
    },
    {
      "cell_type": "code",
      "metadata": {
        "id": "9-EVLu3VleQG",
        "colab": {
          "base_uri": "https://localhost:8080/"
        },
        "outputId": "f3e0398a-91b8-4ccd-b9ac-479bfd4cf4e0"
      },
      "source": [
        "%tensorflow_version 1.x\n",
        "import keras\n",
        "from keras.models import Sequential\n",
        "from keras.layers import Dense, Conv1D, BatchNormalization, Activation\n",
        "from keras.layers import LSTM\n",
        "\n",
        "n_timesteps = X_Train.shape[1]\n",
        "n_features  = X_Train.shape[2]\n",
        "\n",
        "print(n_timesteps, n_features)\n",
        "\n",
        "# input_layer = (n_timesteps, n_features)\n",
        "\n",
        "# look_back = n_timesteps\n",
        "\n",
        "# # create and fit the LSTM network\n",
        "# # model = Sequential()\n",
        "\n",
        "# model = Sequential()\n",
        "# model.add(LSTM(25, input_shape=(n_timesteps, n_features)))\n",
        "# model.add(Dense(1))\n",
        "# model.compile(loss='mean_squared_error', optimizer='adam')\n",
        "# model.fit(X_Train, Y_Train, epochs=30, batch_size=16, verbose=1, \n",
        "#           validation_split = 0.2, shuffle=True)"
      ],
      "execution_count": null,
      "outputs": [
        {
          "output_type": "stream",
          "name": "stdout",
          "text": [
            "8 1\n"
          ]
        }
      ]
    },
    {
      "cell_type": "code",
      "metadata": {
        "id": "yfc6CaCUHlwv",
        "colab": {
          "base_uri": "https://localhost:8080/"
        },
        "outputId": "dea7a019-6ddb-4772-bfa7-507886b511fd"
      },
      "source": [
        "from keras.callbacks import ModelCheckpoint, LearningRateScheduler\n",
        "input_layer = (n_timesteps, n_features)\n",
        "model = Sequential()\n",
        "\n",
        "model.add(Conv1D(filters=32,kernel_size=3,strides=1,activation='relu',padding='same', input_shape=input_layer ))\n",
        "model.add(Conv1D(filters=64,kernel_size=3,strides=1,activation='relu',padding='same' ))\n",
        "\n",
        "#model.add(LSTM(25, return_sequences=True))\n",
        "model.add(LSTM(25))\n",
        "model.add(Dense(1))\n",
        "model.summary()\n",
        "\n",
        "model.compile(loss='mean_squared_error', optimizer='adam')\n",
        "model_checkpoint = ModelCheckpoint('Bit_Coin.hdf5', monitor='val_loss',verbose=1, save_best_only=True)\n",
        "model.fit(X_Train, Y_Train, epochs=30, batch_size=16, verbose=1, \n",
        "          validation_split=0.2, shuffle=True, callbacks=[model_checkpoint])"
      ],
      "execution_count": null,
      "outputs": [
        {
          "output_type": "stream",
          "name": "stdout",
          "text": [
            "Model: \"sequential_15\"\n",
            "_________________________________________________________________\n",
            "Layer (type)                 Output Shape              Param #   \n",
            "=================================================================\n",
            "conv1d_29 (Conv1D)           (None, 8, 32)             128       \n",
            "_________________________________________________________________\n",
            "conv1d_30 (Conv1D)           (None, 8, 64)             6208      \n",
            "_________________________________________________________________\n",
            "lstm_15 (LSTM)               (None, 25)                9000      \n",
            "_________________________________________________________________\n",
            "dense_15 (Dense)             (None, 1)                 26        \n",
            "=================================================================\n",
            "Total params: 15,362\n",
            "Trainable params: 15,362\n",
            "Non-trainable params: 0\n",
            "_________________________________________________________________\n",
            "Train on 883 samples, validate on 221 samples\n",
            "Epoch 1/30\n",
            "883/883 [==============================] - 2s 2ms/step - loss: 0.0250 - val_loss: 0.0042\n",
            "\n",
            "Epoch 00001: val_loss improved from inf to 0.00417, saving model to Bit_Coin.hdf5\n",
            "Epoch 2/30\n",
            "883/883 [==============================] - 0s 478us/step - loss: 9.8954e-04 - val_loss: 0.0022\n",
            "\n",
            "Epoch 00002: val_loss improved from 0.00417 to 0.00216, saving model to Bit_Coin.hdf5\n",
            "Epoch 3/30\n",
            "883/883 [==============================] - 0s 501us/step - loss: 7.3565e-04 - val_loss: 0.0016\n",
            "\n",
            "Epoch 00003: val_loss improved from 0.00216 to 0.00162, saving model to Bit_Coin.hdf5\n",
            "Epoch 4/30\n",
            "883/883 [==============================] - 0s 493us/step - loss: 6.8355e-04 - val_loss: 0.0018\n",
            "\n",
            "Epoch 00004: val_loss did not improve from 0.00162\n",
            "Epoch 5/30\n",
            "883/883 [==============================] - 0s 491us/step - loss: 6.5114e-04 - val_loss: 0.0015\n",
            "\n",
            "Epoch 00005: val_loss improved from 0.00162 to 0.00152, saving model to Bit_Coin.hdf5\n",
            "Epoch 6/30\n",
            "883/883 [==============================] - 0s 476us/step - loss: 6.5080e-04 - val_loss: 0.0017\n",
            "\n",
            "Epoch 00006: val_loss did not improve from 0.00152\n",
            "Epoch 7/30\n",
            "883/883 [==============================] - 0s 480us/step - loss: 6.4112e-04 - val_loss: 0.0015\n",
            "\n",
            "Epoch 00007: val_loss did not improve from 0.00152\n",
            "Epoch 8/30\n",
            "883/883 [==============================] - 0s 500us/step - loss: 5.6442e-04 - val_loss: 0.0015\n",
            "\n",
            "Epoch 00008: val_loss improved from 0.00152 to 0.00146, saving model to Bit_Coin.hdf5\n",
            "Epoch 9/30\n",
            "883/883 [==============================] - 0s 478us/step - loss: 5.7937e-04 - val_loss: 0.0013\n",
            "\n",
            "Epoch 00009: val_loss improved from 0.00146 to 0.00132, saving model to Bit_Coin.hdf5\n",
            "Epoch 10/30\n",
            "883/883 [==============================] - 0s 498us/step - loss: 5.1289e-04 - val_loss: 0.0013\n",
            "\n",
            "Epoch 00010: val_loss improved from 0.00132 to 0.00130, saving model to Bit_Coin.hdf5\n",
            "Epoch 11/30\n",
            "883/883 [==============================] - 0s 476us/step - loss: 4.6390e-04 - val_loss: 9.7334e-04\n",
            "\n",
            "Epoch 00011: val_loss improved from 0.00130 to 0.00097, saving model to Bit_Coin.hdf5\n",
            "Epoch 12/30\n",
            "883/883 [==============================] - 0s 530us/step - loss: 4.3235e-04 - val_loss: 0.0012\n",
            "\n",
            "Epoch 00012: val_loss did not improve from 0.00097\n",
            "Epoch 13/30\n",
            "883/883 [==============================] - 0s 510us/step - loss: 4.1026e-04 - val_loss: 9.2090e-04\n",
            "\n",
            "Epoch 00013: val_loss improved from 0.00097 to 0.00092, saving model to Bit_Coin.hdf5\n",
            "Epoch 14/30\n",
            "883/883 [==============================] - 0s 518us/step - loss: 4.1252e-04 - val_loss: 8.8556e-04\n",
            "\n",
            "Epoch 00014: val_loss improved from 0.00092 to 0.00089, saving model to Bit_Coin.hdf5\n",
            "Epoch 15/30\n",
            "883/883 [==============================] - 0s 516us/step - loss: 4.8654e-04 - val_loss: 0.0015\n",
            "\n",
            "Epoch 00015: val_loss did not improve from 0.00089\n",
            "Epoch 16/30\n",
            "883/883 [==============================] - 0s 521us/step - loss: 4.0928e-04 - val_loss: 7.1804e-04\n",
            "\n",
            "Epoch 00016: val_loss improved from 0.00089 to 0.00072, saving model to Bit_Coin.hdf5\n",
            "Epoch 17/30\n",
            "883/883 [==============================] - 0s 507us/step - loss: 3.4710e-04 - val_loss: 6.7912e-04\n",
            "\n",
            "Epoch 00017: val_loss improved from 0.00072 to 0.00068, saving model to Bit_Coin.hdf5\n",
            "Epoch 18/30\n",
            "883/883 [==============================] - 0s 504us/step - loss: 3.8062e-04 - val_loss: 8.9695e-04\n",
            "\n",
            "Epoch 00018: val_loss did not improve from 0.00068\n",
            "Epoch 19/30\n",
            "883/883 [==============================] - 0s 500us/step - loss: 3.3103e-04 - val_loss: 0.0010\n",
            "\n",
            "Epoch 00019: val_loss did not improve from 0.00068\n",
            "Epoch 20/30\n",
            "883/883 [==============================] - 0s 538us/step - loss: 3.3935e-04 - val_loss: 6.4785e-04\n",
            "\n",
            "Epoch 00020: val_loss improved from 0.00068 to 0.00065, saving model to Bit_Coin.hdf5\n",
            "Epoch 21/30\n",
            "883/883 [==============================] - 0s 519us/step - loss: 3.4949e-04 - val_loss: 9.1099e-04\n",
            "\n",
            "Epoch 00021: val_loss did not improve from 0.00065\n",
            "Epoch 22/30\n",
            "883/883 [==============================] - 0s 538us/step - loss: 3.0125e-04 - val_loss: 6.4266e-04\n",
            "\n",
            "Epoch 00022: val_loss improved from 0.00065 to 0.00064, saving model to Bit_Coin.hdf5\n",
            "Epoch 23/30\n",
            "883/883 [==============================] - 0s 521us/step - loss: 3.7302e-04 - val_loss: 6.3080e-04\n",
            "\n",
            "Epoch 00023: val_loss improved from 0.00064 to 0.00063, saving model to Bit_Coin.hdf5\n",
            "Epoch 24/30\n",
            "883/883 [==============================] - 0s 520us/step - loss: 3.3875e-04 - val_loss: 6.2988e-04\n",
            "\n",
            "Epoch 00024: val_loss improved from 0.00063 to 0.00063, saving model to Bit_Coin.hdf5\n",
            "Epoch 25/30\n",
            "883/883 [==============================] - 0s 496us/step - loss: 3.2223e-04 - val_loss: 6.8908e-04\n",
            "\n",
            "Epoch 00025: val_loss did not improve from 0.00063\n",
            "Epoch 26/30\n",
            "883/883 [==============================] - 0s 462us/step - loss: 3.1138e-04 - val_loss: 6.2316e-04\n",
            "\n",
            "Epoch 00026: val_loss improved from 0.00063 to 0.00062, saving model to Bit_Coin.hdf5\n",
            "Epoch 27/30\n",
            "883/883 [==============================] - 0s 515us/step - loss: 2.8656e-04 - val_loss: 0.0010\n",
            "\n",
            "Epoch 00027: val_loss did not improve from 0.00062\n",
            "Epoch 28/30\n",
            "883/883 [==============================] - 0s 506us/step - loss: 3.1995e-04 - val_loss: 8.0315e-04\n",
            "\n",
            "Epoch 00028: val_loss did not improve from 0.00062\n",
            "Epoch 29/30\n",
            "883/883 [==============================] - 0s 510us/step - loss: 3.5266e-04 - val_loss: 0.0010\n",
            "\n",
            "Epoch 00029: val_loss did not improve from 0.00062\n",
            "Epoch 30/30\n",
            "883/883 [==============================] - 0s 492us/step - loss: 2.9638e-04 - val_loss: 6.2324e-04\n",
            "\n",
            "Epoch 00030: val_loss did not improve from 0.00062\n"
          ]
        },
        {
          "output_type": "execute_result",
          "data": {
            "text/plain": [
              "<keras.callbacks.callbacks.History at 0x7fb8e2a98e90>"
            ]
          },
          "metadata": {},
          "execution_count": 291
        }
      ]
    },
    {
      "cell_type": "code",
      "metadata": {
        "id": "0dEYu-3QvaFS"
      },
      "source": [
        "Y_Predict = model.predict(X_Test)\n",
        "\n",
        "Y_Predict_rescaled = Target_Scalar.inverse_transform(Y_Predict)\n",
        "\n",
        "Y_Actual_rescaled = Target_Scalar.inverse_transform(Y_Test)  #In order to Nullify the minimax Normalization\n",
        "\n",
        "Y_Actual  = pd.DataFrame(Y_Actual_rescaled, columns=['Actual_Value'])\n",
        "Y_predict = pd.DataFrame(Y_Predict_rescaled, columns=['Predicted_Value'])"
      ],
      "execution_count": null,
      "outputs": []
    },
    {
      "cell_type": "code",
      "metadata": {
        "id": "9G2yl6GNygYC"
      },
      "source": [
        "Y_Actual.head()"
      ],
      "execution_count": null,
      "outputs": []
    },
    {
      "cell_type": "code",
      "metadata": {
        "id": "9G5tIKbWxrrx",
        "colab": {
          "base_uri": "https://localhost:8080/",
          "height": 391
        },
        "outputId": "63890028-6404-41a0-cf56-c41a183c1b5f"
      },
      "source": [
        "plt.figure(figsize=(11, 6))\n",
        "plt.plot(Y_Actual[:-1], linestyle='solid', color='r')\n",
        "plt.plot(Y_predict[:-1], linestyle='dashed', color='b')\n",
        "plt.plot()"
      ],
      "execution_count": null,
      "outputs": [
        {
          "output_type": "execute_result",
          "data": {
            "text/plain": [
              "[]"
            ]
          },
          "metadata": {},
          "execution_count": 294
        },
        {
          "output_type": "display_data",
          "data": {
            "image/png": "[encoded data removed]",
            "text/plain": [
              "<Figure size 792x432 with 1 Axes>"
            ]
          },
          "metadata": {}
        }
      ]
    },
    {
      "cell_type": "code",
      "metadata": {
        "id": "qycmzojj0r2e",
        "colab": {
          "base_uri": "https://localhost:8080/"
        },
        "outputId": "9f0a5c14-ce23-47e2-fdaa-85545722ae25"
      },
      "source": [
        "from sklearn.metrics import r2_score\n",
        "score = r2_score(Y_Actual[:-1], Y_predict[:-1])\n",
        "print('R-squared score for the test set:', round(score,4))"
      ],
      "execution_count": null,
      "outputs": [
        {
          "output_type": "stream",
          "name": "stdout",
          "text": [
            "R-squared score for the test set: 0.9821\n"
          ]
        }
      ]
    },
    {
      "cell_type": "code",
      "metadata": {
        "colab": {
          "base_uri": "https://localhost:8080/"
        },
        "id": "oorEWmAKFMpD",
        "outputId": "5630785a-c7fb-41e8-c0f5-6a9be055230e"
      },
      "source": [
        "# print('Next Day Actual {}'.format(list(Y_Actual.values)[-1]))\n",
        "print('Next Day Prediction {}'.format(list(Y_predict.values)[-1]))"
      ],
      "execution_count": null,
      "outputs": [
        {
          "output_type": "stream",
          "name": "stdout",
          "text": [
            "Next Day Prediction [228.96811]\n"
          ]
        }
      ]
    },
    {
      "cell_type": "markdown",
      "metadata": {
        "id": "acOB-7_SnTbj"
      },
      "source": [
        "Close 656.68; Low = 646.56; Highest: 659.23\n"
      ]
    }
  ]
}