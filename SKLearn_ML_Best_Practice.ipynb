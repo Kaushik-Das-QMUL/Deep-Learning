{
  "nbformat": 4,
  "nbformat_minor": 0,
  "metadata": {
    "colab": {
      "provenance": []
    },
    "kernelspec": {
      "name": "python3",
      "display_name": "Python 3"
    },
    "language_info": {
      "name": "python"
    },
    "widgets": {
      "application/vnd.jupyter.widget-state+json": {
        "e4cf26d00cf146fb9b355392686bb84b": {
          "model_module": "@jupyter-widgets/controls",
          "model_name": "HBoxModel",
          "model_module_version": "1.5.0",
          "state": {
            "_dom_classes": [],
            "_model_module": "@jupyter-widgets/controls",
            "_model_module_version": "1.5.0",
            "_model_name": "HBoxModel",
            "_view_count": null,
            "_view_module": "@jupyter-widgets/controls",
            "_view_module_version": "1.5.0",
            "_view_name": "HBoxView",
            "box_style": "",
            "children": [
              "IPY_MODEL_0af434a0a6a54bb99a31efc214ec29a3",
              "IPY_MODEL_939d7a62610645ceac592ee3abc7a8bb",
              "IPY_MODEL_dfb0170beccd40a9a3427f6625e53ce9"
            ],
            "layout": "IPY_MODEL_eba8e9b8abec448cae7c9f7772e2c4cb"
          }
        },
        "0af434a0a6a54bb99a31efc214ec29a3": {
          "model_module": "@jupyter-widgets/controls",
          "model_name": "HTMLModel",
          "model_module_version": "1.5.0",
          "state": {
            "_dom_classes": [],
            "_model_module": "@jupyter-widgets/controls",
            "_model_module_version": "1.5.0",
            "_model_name": "HTMLModel",
            "_view_count": null,
            "_view_module": "@jupyter-widgets/controls",
            "_view_module_version": "1.5.0",
            "_view_name": "HTMLView",
            "description": "",
            "description_tooltip": null,
            "layout": "IPY_MODEL_83a18d45c5814e2e9b8feee8508c7cd6",
            "placeholder": "​",
            "style": "IPY_MODEL_9f5ff1af10464abf8741ab7d00aadc3b",
            "value": "100%"
          }
        },
        "939d7a62610645ceac592ee3abc7a8bb": {
          "model_module": "@jupyter-widgets/controls",
          "model_name": "FloatProgressModel",
          "model_module_version": "1.5.0",
          "state": {
            "_dom_classes": [],
            "_model_module": "@jupyter-widgets/controls",
            "_model_module_version": "1.5.0",
            "_model_name": "FloatProgressModel",
            "_view_count": null,
            "_view_module": "@jupyter-widgets/controls",
            "_view_module_version": "1.5.0",
            "_view_name": "ProgressView",
            "bar_style": "success",
            "description": "",
            "description_tooltip": null,
            "layout": "IPY_MODEL_586bd03c8542460daeab4a7c478a0bf0",
            "max": 7,
            "min": 0,
            "orientation": "horizontal",
            "style": "IPY_MODEL_5058bc85d235436a895bb30257e32142",
            "value": 7
          }
        },
        "dfb0170beccd40a9a3427f6625e53ce9": {
          "model_module": "@jupyter-widgets/controls",
          "model_name": "HTMLModel",
          "model_module_version": "1.5.0",
          "state": {
            "_dom_classes": [],
            "_model_module": "@jupyter-widgets/controls",
            "_model_module_version": "1.5.0",
            "_model_name": "HTMLModel",
            "_view_count": null,
            "_view_module": "@jupyter-widgets/controls",
            "_view_module_version": "1.5.0",
            "_view_name": "HTMLView",
            "description": "",
            "description_tooltip": null,
            "layout": "IPY_MODEL_ff20da3c3974472a988db982660df082",
            "placeholder": "​",
            "style": "IPY_MODEL_3ff1cb11edf8488ab00f5bdee6c894c1",
            "value": " 7/7 [00:02&lt;00:00,  3.78it/s]"
          }
        },
        "eba8e9b8abec448cae7c9f7772e2c4cb": {
          "model_module": "@jupyter-widgets/base",
          "model_name": "LayoutModel",
          "model_module_version": "1.2.0",
          "state": {
            "_model_module": "@jupyter-widgets/base",
            "_model_module_version": "1.2.0",
            "_model_name": "LayoutModel",
            "_view_count": null,
            "_view_module": "@jupyter-widgets/base",
            "_view_module_version": "1.2.0",
            "_view_name": "LayoutView",
            "align_content": null,
            "align_items": null,
            "align_self": null,
            "border": null,
            "bottom": null,
            "display": null,
            "flex": null,
            "flex_flow": null,
            "grid_area": null,
            "grid_auto_columns": null,
            "grid_auto_flow": null,
            "grid_auto_rows": null,
            "grid_column": null,
            "grid_gap": null,
            "grid_row": null,
            "grid_template_areas": null,
            "grid_template_columns": null,
            "grid_template_rows": null,
            "height": null,
            "justify_content": null,
            "justify_items": null,
            "left": null,
            "margin": null,
            "max_height": null,
            "max_width": null,
            "min_height": null,
            "min_width": null,
            "object_fit": null,
            "object_position": null,
            "order": null,
            "overflow": null,
            "overflow_x": null,
            "overflow_y": null,
            "padding": null,
            "right": null,
            "top": null,
            "visibility": null,
            "width": null
          }
        },
        "83a18d45c5814e2e9b8feee8508c7cd6": {
          "model_module": "@jupyter-widgets/base",
          "model_name": "LayoutModel",
          "model_module_version": "1.2.0",
          "state": {
            "_model_module": "@jupyter-widgets/base",
            "_model_module_version": "1.2.0",
            "_model_name": "LayoutModel",
            "_view_count": null,
            "_view_module": "@jupyter-widgets/base",
            "_view_module_version": "1.2.0",
            "_view_name": "LayoutView",
            "align_content": null,
            "align_items": null,
            "align_self": null,
            "border": null,
            "bottom": null,
            "display": null,
            "flex": null,
            "flex_flow": null,
            "grid_area": null,
            "grid_auto_columns": null,
            "grid_auto_flow": null,
            "grid_auto_rows": null,
            "grid_column": null,
            "grid_gap": null,
            "grid_row": null,
            "grid_template_areas": null,
            "grid_template_columns": null,
            "grid_template_rows": null,
            "height": null,
            "justify_content": null,
            "justify_items": null,
            "left": null,
            "margin": null,
            "max_height": null,
            "max_width": null,
            "min_height": null,
            "min_width": null,
            "object_fit": null,
            "object_position": null,
            "order": null,
            "overflow": null,
            "overflow_x": null,
            "overflow_y": null,
            "padding": null,
            "right": null,
            "top": null,
            "visibility": null,
            "width": null
          }
        },
        "9f5ff1af10464abf8741ab7d00aadc3b": {
          "model_module": "@jupyter-widgets/controls",
          "model_name": "DescriptionStyleModel",
          "model_module_version": "1.5.0",
          "state": {
            "_model_module": "@jupyter-widgets/controls",
            "_model_module_version": "1.5.0",
            "_model_name": "DescriptionStyleModel",
            "_view_count": null,
            "_view_module": "@jupyter-widgets/base",
            "_view_module_version": "1.2.0",
            "_view_name": "StyleView",
            "description_width": ""
          }
        },
        "586bd03c8542460daeab4a7c478a0bf0": {
          "model_module": "@jupyter-widgets/base",
          "model_name": "LayoutModel",
          "model_module_version": "1.2.0",
          "state": {
            "_model_module": "@jupyter-widgets/base",
            "_model_module_version": "1.2.0",
            "_model_name": "LayoutModel",
            "_view_count": null,
            "_view_module": "@jupyter-widgets/base",
            "_view_module_version": "1.2.0",
            "_view_name": "LayoutView",
            "align_content": null,
            "align_items": null,
            "align_self": null,
            "border": null,
            "bottom": null,
            "display": null,
            "flex": null,
            "flex_flow": null,
            "grid_area": null,
            "grid_auto_columns": null,
            "grid_auto_flow": null,
            "grid_auto_rows": null,
            "grid_column": null,
            "grid_gap": null,
            "grid_row": null,
            "grid_template_areas": null,
            "grid_template_columns": null,
            "grid_template_rows": null,
            "height": null,
            "justify_content": null,
            "justify_items": null,
            "left": null,
            "margin": null,
            "max_height": null,
            "max_width": null,
            "min_height": null,
            "min_width": null,
            "object_fit": null,
            "object_position": null,
            "order": null,
            "overflow": null,
            "overflow_x": null,
            "overflow_y": null,
            "padding": null,
            "right": null,
            "top": null,
            "visibility": null,
            "width": null
          }
        },
        "5058bc85d235436a895bb30257e32142": {
          "model_module": "@jupyter-widgets/controls",
          "model_name": "ProgressStyleModel",
          "model_module_version": "1.5.0",
          "state": {
            "_model_module": "@jupyter-widgets/controls",
            "_model_module_version": "1.5.0",
            "_model_name": "ProgressStyleModel",
            "_view_count": null,
            "_view_module": "@jupyter-widgets/base",
            "_view_module_version": "1.2.0",
            "_view_name": "StyleView",
            "bar_color": "Red",
            "description_width": ""
          }
        },
        "ff20da3c3974472a988db982660df082": {
          "model_module": "@jupyter-widgets/base",
          "model_name": "LayoutModel",
          "model_module_version": "1.2.0",
          "state": {
            "_model_module": "@jupyter-widgets/base",
            "_model_module_version": "1.2.0",
            "_model_name": "LayoutModel",
            "_view_count": null,
            "_view_module": "@jupyter-widgets/base",
            "_view_module_version": "1.2.0",
            "_view_name": "LayoutView",
            "align_content": null,
            "align_items": null,
            "align_self": null,
            "border": null,
            "bottom": null,
            "display": null,
            "flex": null,
            "flex_flow": null,
            "grid_area": null,
            "grid_auto_columns": null,
            "grid_auto_flow": null,
            "grid_auto_rows": null,
            "grid_column": null,
            "grid_gap": null,
            "grid_row": null,
            "grid_template_areas": null,
            "grid_template_columns": null,
            "grid_template_rows": null,
            "height": null,
            "justify_content": null,
            "justify_items": null,
            "left": null,
            "margin": null,
            "max_height": null,
            "max_width": null,
            "min_height": null,
            "min_width": null,
            "object_fit": null,
            "object_position": null,
            "order": null,
            "overflow": null,
            "overflow_x": null,
            "overflow_y": null,
            "padding": null,
            "right": null,
            "top": null,
            "visibility": null,
            "width": null
          }
        },
        "3ff1cb11edf8488ab00f5bdee6c894c1": {
          "model_module": "@jupyter-widgets/controls",
          "model_name": "DescriptionStyleModel",
          "model_module_version": "1.5.0",
          "state": {
            "_model_module": "@jupyter-widgets/controls",
            "_model_module_version": "1.5.0",
            "_model_name": "DescriptionStyleModel",
            "_view_count": null,
            "_view_module": "@jupyter-widgets/base",
            "_view_module_version": "1.2.0",
            "_view_name": "StyleView",
            "description_width": ""
          }
        },
        "a34db9337d6c4e71bacf3fb7b3f9bfff": {
          "model_module": "@jupyter-widgets/controls",
          "model_name": "HBoxModel",
          "model_module_version": "1.5.0",
          "state": {
            "_dom_classes": [],
            "_model_module": "@jupyter-widgets/controls",
            "_model_module_version": "1.5.0",
            "_model_name": "HBoxModel",
            "_view_count": null,
            "_view_module": "@jupyter-widgets/controls",
            "_view_module_version": "1.5.0",
            "_view_name": "HBoxView",
            "box_style": "",
            "children": [
              "IPY_MODEL_01a6416e9eaf44caa03bdbedb08f9f1b",
              "IPY_MODEL_c031104854af4cd7a157553f27a40be1",
              "IPY_MODEL_3a724c6fb515466ab0aa4e149978db7e"
            ],
            "layout": "IPY_MODEL_0b5660e0532f4d7b83e3a1b859e4495c"
          }
        },
        "01a6416e9eaf44caa03bdbedb08f9f1b": {
          "model_module": "@jupyter-widgets/controls",
          "model_name": "HTMLModel",
          "model_module_version": "1.5.0",
          "state": {
            "_dom_classes": [],
            "_model_module": "@jupyter-widgets/controls",
            "_model_module_version": "1.5.0",
            "_model_name": "HTMLModel",
            "_view_count": null,
            "_view_module": "@jupyter-widgets/controls",
            "_view_module_version": "1.5.0",
            "_view_name": "HTMLView",
            "description": "",
            "description_tooltip": null,
            "layout": "IPY_MODEL_b08e542e12164be8aaa5ec41136a1d9d",
            "placeholder": "​",
            "style": "IPY_MODEL_a42f72d6c92140379d95d9d264dcc3e5",
            "value": "100%"
          }
        },
        "c031104854af4cd7a157553f27a40be1": {
          "model_module": "@jupyter-widgets/controls",
          "model_name": "FloatProgressModel",
          "model_module_version": "1.5.0",
          "state": {
            "_dom_classes": [],
            "_model_module": "@jupyter-widgets/controls",
            "_model_module_version": "1.5.0",
            "_model_name": "FloatProgressModel",
            "_view_count": null,
            "_view_module": "@jupyter-widgets/controls",
            "_view_module_version": "1.5.0",
            "_view_name": "ProgressView",
            "bar_style": "success",
            "description": "",
            "description_tooltip": null,
            "layout": "IPY_MODEL_c36ebcd6a9cc4980a3c45908e5d52f2b",
            "max": 4,
            "min": 0,
            "orientation": "horizontal",
            "style": "IPY_MODEL_7e6375436fff45839ea318e5b813fdb0",
            "value": 4
          }
        },
        "3a724c6fb515466ab0aa4e149978db7e": {
          "model_module": "@jupyter-widgets/controls",
          "model_name": "HTMLModel",
          "model_module_version": "1.5.0",
          "state": {
            "_dom_classes": [],
            "_model_module": "@jupyter-widgets/controls",
            "_model_module_version": "1.5.0",
            "_model_name": "HTMLModel",
            "_view_count": null,
            "_view_module": "@jupyter-widgets/controls",
            "_view_module_version": "1.5.0",
            "_view_name": "HTMLView",
            "description": "",
            "description_tooltip": null,
            "layout": "IPY_MODEL_083390d913f6431481cd91693523cf72",
            "placeholder": "​",
            "style": "IPY_MODEL_9775aec777fe4967ab768944320aed54",
            "value": " 4/4 [00:02&lt;00:00,  1.95it/s]"
          }
        },
        "0b5660e0532f4d7b83e3a1b859e4495c": {
          "model_module": "@jupyter-widgets/base",
          "model_name": "LayoutModel",
          "model_module_version": "1.2.0",
          "state": {
            "_model_module": "@jupyter-widgets/base",
            "_model_module_version": "1.2.0",
            "_model_name": "LayoutModel",
            "_view_count": null,
            "_view_module": "@jupyter-widgets/base",
            "_view_module_version": "1.2.0",
            "_view_name": "LayoutView",
            "align_content": null,
            "align_items": null,
            "align_self": null,
            "border": null,
            "bottom": null,
            "display": null,
            "flex": null,
            "flex_flow": null,
            "grid_area": null,
            "grid_auto_columns": null,
            "grid_auto_flow": null,
            "grid_auto_rows": null,
            "grid_column": null,
            "grid_gap": null,
            "grid_row": null,
            "grid_template_areas": null,
            "grid_template_columns": null,
            "grid_template_rows": null,
            "height": null,
            "justify_content": null,
            "justify_items": null,
            "left": null,
            "margin": null,
            "max_height": null,
            "max_width": null,
            "min_height": null,
            "min_width": null,
            "object_fit": null,
            "object_position": null,
            "order": null,
            "overflow": null,
            "overflow_x": null,
            "overflow_y": null,
            "padding": null,
            "right": null,
            "top": null,
            "visibility": null,
            "width": null
          }
        },
        "b08e542e12164be8aaa5ec41136a1d9d": {
          "model_module": "@jupyter-widgets/base",
          "model_name": "LayoutModel",
          "model_module_version": "1.2.0",
          "state": {
            "_model_module": "@jupyter-widgets/base",
            "_model_module_version": "1.2.0",
            "_model_name": "LayoutModel",
            "_view_count": null,
            "_view_module": "@jupyter-widgets/base",
            "_view_module_version": "1.2.0",
            "_view_name": "LayoutView",
            "align_content": null,
            "align_items": null,
            "align_self": null,
            "border": null,
            "bottom": null,
            "display": null,
            "flex": null,
            "flex_flow": null,
            "grid_area": null,
            "grid_auto_columns": null,
            "grid_auto_flow": null,
            "grid_auto_rows": null,
            "grid_column": null,
            "grid_gap": null,
            "grid_row": null,
            "grid_template_areas": null,
            "grid_template_columns": null,
            "grid_template_rows": null,
            "height": null,
            "justify_content": null,
            "justify_items": null,
            "left": null,
            "margin": null,
            "max_height": null,
            "max_width": null,
            "min_height": null,
            "min_width": null,
            "object_fit": null,
            "object_position": null,
            "order": null,
            "overflow": null,
            "overflow_x": null,
            "overflow_y": null,
            "padding": null,
            "right": null,
            "top": null,
            "visibility": null,
            "width": null
          }
        },
        "a42f72d6c92140379d95d9d264dcc3e5": {
          "model_module": "@jupyter-widgets/controls",
          "model_name": "DescriptionStyleModel",
          "model_module_version": "1.5.0",
          "state": {
            "_model_module": "@jupyter-widgets/controls",
            "_model_module_version": "1.5.0",
            "_model_name": "DescriptionStyleModel",
            "_view_count": null,
            "_view_module": "@jupyter-widgets/base",
            "_view_module_version": "1.2.0",
            "_view_name": "StyleView",
            "description_width": ""
          }
        },
        "c36ebcd6a9cc4980a3c45908e5d52f2b": {
          "model_module": "@jupyter-widgets/base",
          "model_name": "LayoutModel",
          "model_module_version": "1.2.0",
          "state": {
            "_model_module": "@jupyter-widgets/base",
            "_model_module_version": "1.2.0",
            "_model_name": "LayoutModel",
            "_view_count": null,
            "_view_module": "@jupyter-widgets/base",
            "_view_module_version": "1.2.0",
            "_view_name": "LayoutView",
            "align_content": null,
            "align_items": null,
            "align_self": null,
            "border": null,
            "bottom": null,
            "display": null,
            "flex": null,
            "flex_flow": null,
            "grid_area": null,
            "grid_auto_columns": null,
            "grid_auto_flow": null,
            "grid_auto_rows": null,
            "grid_column": null,
            "grid_gap": null,
            "grid_row": null,
            "grid_template_areas": null,
            "grid_template_columns": null,
            "grid_template_rows": null,
            "height": null,
            "justify_content": null,
            "justify_items": null,
            "left": null,
            "margin": null,
            "max_height": null,
            "max_width": null,
            "min_height": null,
            "min_width": null,
            "object_fit": null,
            "object_position": null,
            "order": null,
            "overflow": null,
            "overflow_x": null,
            "overflow_y": null,
            "padding": null,
            "right": null,
            "top": null,
            "visibility": null,
            "width": null
          }
        },
        "7e6375436fff45839ea318e5b813fdb0": {
          "model_module": "@jupyter-widgets/controls",
          "model_name": "ProgressStyleModel",
          "model_module_version": "1.5.0",
          "state": {
            "_model_module": "@jupyter-widgets/controls",
            "_model_module_version": "1.5.0",
            "_model_name": "ProgressStyleModel",
            "_view_count": null,
            "_view_module": "@jupyter-widgets/base",
            "_view_module_version": "1.2.0",
            "_view_name": "StyleView",
            "bar_color": "black",
            "description_width": ""
          }
        },
        "083390d913f6431481cd91693523cf72": {
          "model_module": "@jupyter-widgets/base",
          "model_name": "LayoutModel",
          "model_module_version": "1.2.0",
          "state": {
            "_model_module": "@jupyter-widgets/base",
            "_model_module_version": "1.2.0",
            "_model_name": "LayoutModel",
            "_view_count": null,
            "_view_module": "@jupyter-widgets/base",
            "_view_module_version": "1.2.0",
            "_view_name": "LayoutView",
            "align_content": null,
            "align_items": null,
            "align_self": null,
            "border": null,
            "bottom": null,
            "display": null,
            "flex": null,
            "flex_flow": null,
            "grid_area": null,
            "grid_auto_columns": null,
            "grid_auto_flow": null,
            "grid_auto_rows": null,
            "grid_column": null,
            "grid_gap": null,
            "grid_row": null,
            "grid_template_areas": null,
            "grid_template_columns": null,
            "grid_template_rows": null,
            "height": null,
            "justify_content": null,
            "justify_items": null,
            "left": null,
            "margin": null,
            "max_height": null,
            "max_width": null,
            "min_height": null,
            "min_width": null,
            "object_fit": null,
            "object_position": null,
            "order": null,
            "overflow": null,
            "overflow_x": null,
            "overflow_y": null,
            "padding": null,
            "right": null,
            "top": null,
            "visibility": null,
            "width": null
          }
        },
        "9775aec777fe4967ab768944320aed54": {
          "model_module": "@jupyter-widgets/controls",
          "model_name": "DescriptionStyleModel",
          "model_module_version": "1.5.0",
          "state": {
            "_model_module": "@jupyter-widgets/controls",
            "_model_module_version": "1.5.0",
            "_model_name": "DescriptionStyleModel",
            "_view_count": null,
            "_view_module": "@jupyter-widgets/base",
            "_view_module_version": "1.2.0",
            "_view_name": "StyleView",
            "description_width": ""
          }
        },
        "1d2a9a9bbb354b25a96972c861b45dd4": {
          "model_module": "@jupyter-widgets/controls",
          "model_name": "HBoxModel",
          "model_module_version": "1.5.0",
          "state": {
            "_dom_classes": [],
            "_model_module": "@jupyter-widgets/controls",
            "_model_module_version": "1.5.0",
            "_model_name": "HBoxModel",
            "_view_count": null,
            "_view_module": "@jupyter-widgets/controls",
            "_view_module_version": "1.5.0",
            "_view_name": "HBoxView",
            "box_style": "",
            "children": [
              "IPY_MODEL_3045de8a32824e43aee17fa0af2a7f13",
              "IPY_MODEL_40f39e90d82d4f87ab9e8b42c9708cfd",
              "IPY_MODEL_bd94f39d86ef4d07985e00bbcd517b78"
            ],
            "layout": "IPY_MODEL_d7195b2a1bbc486dae4dfca608be5663"
          }
        },
        "3045de8a32824e43aee17fa0af2a7f13": {
          "model_module": "@jupyter-widgets/controls",
          "model_name": "HTMLModel",
          "model_module_version": "1.5.0",
          "state": {
            "_dom_classes": [],
            "_model_module": "@jupyter-widgets/controls",
            "_model_module_version": "1.5.0",
            "_model_name": "HTMLModel",
            "_view_count": null,
            "_view_module": "@jupyter-widgets/controls",
            "_view_module_version": "1.5.0",
            "_view_name": "HTMLView",
            "description": "",
            "description_tooltip": null,
            "layout": "IPY_MODEL_57b13f4c81b141c9bb9e72d85316e44e",
            "placeholder": "​",
            "style": "IPY_MODEL_ff126a87d227459f9ea04807ca588b93",
            "value": "100%"
          }
        },
        "40f39e90d82d4f87ab9e8b42c9708cfd": {
          "model_module": "@jupyter-widgets/controls",
          "model_name": "FloatProgressModel",
          "model_module_version": "1.5.0",
          "state": {
            "_dom_classes": [],
            "_model_module": "@jupyter-widgets/controls",
            "_model_module_version": "1.5.0",
            "_model_name": "FloatProgressModel",
            "_view_count": null,
            "_view_module": "@jupyter-widgets/controls",
            "_view_module_version": "1.5.0",
            "_view_name": "ProgressView",
            "bar_style": "success",
            "description": "",
            "description_tooltip": null,
            "layout": "IPY_MODEL_9adabe72b0604772ba5d701872b1657a",
            "max": 4,
            "min": 0,
            "orientation": "horizontal",
            "style": "IPY_MODEL_3293aa0119cc4ab483e6d64eb09281c4",
            "value": 4
          }
        },
        "bd94f39d86ef4d07985e00bbcd517b78": {
          "model_module": "@jupyter-widgets/controls",
          "model_name": "HTMLModel",
          "model_module_version": "1.5.0",
          "state": {
            "_dom_classes": [],
            "_model_module": "@jupyter-widgets/controls",
            "_model_module_version": "1.5.0",
            "_model_name": "HTMLModel",
            "_view_count": null,
            "_view_module": "@jupyter-widgets/controls",
            "_view_module_version": "1.5.0",
            "_view_name": "HTMLView",
            "description": "",
            "description_tooltip": null,
            "layout": "IPY_MODEL_2d840c5fc2094be1ab392c77448f0797",
            "placeholder": "​",
            "style": "IPY_MODEL_3a176925ecc94308b29ee9360830027c",
            "value": " 4/4 [00:03&lt;00:00,  1.27it/s]"
          }
        },
        "d7195b2a1bbc486dae4dfca608be5663": {
          "model_module": "@jupyter-widgets/base",
          "model_name": "LayoutModel",
          "model_module_version": "1.2.0",
          "state": {
            "_model_module": "@jupyter-widgets/base",
            "_model_module_version": "1.2.0",
            "_model_name": "LayoutModel",
            "_view_count": null,
            "_view_module": "@jupyter-widgets/base",
            "_view_module_version": "1.2.0",
            "_view_name": "LayoutView",
            "align_content": null,
            "align_items": null,
            "align_self": null,
            "border": null,
            "bottom": null,
            "display": null,
            "flex": null,
            "flex_flow": null,
            "grid_area": null,
            "grid_auto_columns": null,
            "grid_auto_flow": null,
            "grid_auto_rows": null,
            "grid_column": null,
            "grid_gap": null,
            "grid_row": null,
            "grid_template_areas": null,
            "grid_template_columns": null,
            "grid_template_rows": null,
            "height": null,
            "justify_content": null,
            "justify_items": null,
            "left": null,
            "margin": null,
            "max_height": null,
            "max_width": null,
            "min_height": null,
            "min_width": null,
            "object_fit": null,
            "object_position": null,
            "order": null,
            "overflow": null,
            "overflow_x": null,
            "overflow_y": null,
            "padding": null,
            "right": null,
            "top": null,
            "visibility": null,
            "width": null
          }
        },
        "57b13f4c81b141c9bb9e72d85316e44e": {
          "model_module": "@jupyter-widgets/base",
          "model_name": "LayoutModel",
          "model_module_version": "1.2.0",
          "state": {
            "_model_module": "@jupyter-widgets/base",
            "_model_module_version": "1.2.0",
            "_model_name": "LayoutModel",
            "_view_count": null,
            "_view_module": "@jupyter-widgets/base",
            "_view_module_version": "1.2.0",
            "_view_name": "LayoutView",
            "align_content": null,
            "align_items": null,
            "align_self": null,
            "border": null,
            "bottom": null,
            "display": null,
            "flex": null,
            "flex_flow": null,
            "grid_area": null,
            "grid_auto_columns": null,
            "grid_auto_flow": null,
            "grid_auto_rows": null,
            "grid_column": null,
            "grid_gap": null,
            "grid_row": null,
            "grid_template_areas": null,
            "grid_template_columns": null,
            "grid_template_rows": null,
            "height": null,
            "justify_content": null,
            "justify_items": null,
            "left": null,
            "margin": null,
            "max_height": null,
            "max_width": null,
            "min_height": null,
            "min_width": null,
            "object_fit": null,
            "object_position": null,
            "order": null,
            "overflow": null,
            "overflow_x": null,
            "overflow_y": null,
            "padding": null,
            "right": null,
            "top": null,
            "visibility": null,
            "width": null
          }
        },
        "ff126a87d227459f9ea04807ca588b93": {
          "model_module": "@jupyter-widgets/controls",
          "model_name": "DescriptionStyleModel",
          "model_module_version": "1.5.0",
          "state": {
            "_model_module": "@jupyter-widgets/controls",
            "_model_module_version": "1.5.0",
            "_model_name": "DescriptionStyleModel",
            "_view_count": null,
            "_view_module": "@jupyter-widgets/base",
            "_view_module_version": "1.2.0",
            "_view_name": "StyleView",
            "description_width": ""
          }
        },
        "9adabe72b0604772ba5d701872b1657a": {
          "model_module": "@jupyter-widgets/base",
          "model_name": "LayoutModel",
          "model_module_version": "1.2.0",
          "state": {
            "_model_module": "@jupyter-widgets/base",
            "_model_module_version": "1.2.0",
            "_model_name": "LayoutModel",
            "_view_count": null,
            "_view_module": "@jupyter-widgets/base",
            "_view_module_version": "1.2.0",
            "_view_name": "LayoutView",
            "align_content": null,
            "align_items": null,
            "align_self": null,
            "border": null,
            "bottom": null,
            "display": null,
            "flex": null,
            "flex_flow": null,
            "grid_area": null,
            "grid_auto_columns": null,
            "grid_auto_flow": null,
            "grid_auto_rows": null,
            "grid_column": null,
            "grid_gap": null,
            "grid_row": null,
            "grid_template_areas": null,
            "grid_template_columns": null,
            "grid_template_rows": null,
            "height": null,
            "justify_content": null,
            "justify_items": null,
            "left": null,
            "margin": null,
            "max_height": null,
            "max_width": null,
            "min_height": null,
            "min_width": null,
            "object_fit": null,
            "object_position": null,
            "order": null,
            "overflow": null,
            "overflow_x": null,
            "overflow_y": null,
            "padding": null,
            "right": null,
            "top": null,
            "visibility": null,
            "width": null
          }
        },
        "3293aa0119cc4ab483e6d64eb09281c4": {
          "model_module": "@jupyter-widgets/controls",
          "model_name": "ProgressStyleModel",
          "model_module_version": "1.5.0",
          "state": {
            "_model_module": "@jupyter-widgets/controls",
            "_model_module_version": "1.5.0",
            "_model_name": "ProgressStyleModel",
            "_view_count": null,
            "_view_module": "@jupyter-widgets/base",
            "_view_module_version": "1.2.0",
            "_view_name": "StyleView",
            "bar_color": "Blue",
            "description_width": ""
          }
        },
        "2d840c5fc2094be1ab392c77448f0797": {
          "model_module": "@jupyter-widgets/base",
          "model_name": "LayoutModel",
          "model_module_version": "1.2.0",
          "state": {
            "_model_module": "@jupyter-widgets/base",
            "_model_module_version": "1.2.0",
            "_model_name": "LayoutModel",
            "_view_count": null,
            "_view_module": "@jupyter-widgets/base",
            "_view_module_version": "1.2.0",
            "_view_name": "LayoutView",
            "align_content": null,
            "align_items": null,
            "align_self": null,
            "border": null,
            "bottom": null,
            "display": null,
            "flex": null,
            "flex_flow": null,
            "grid_area": null,
            "grid_auto_columns": null,
            "grid_auto_flow": null,
            "grid_auto_rows": null,
            "grid_column": null,
            "grid_gap": null,
            "grid_row": null,
            "grid_template_areas": null,
            "grid_template_columns": null,
            "grid_template_rows": null,
            "height": null,
            "justify_content": null,
            "justify_items": null,
            "left": null,
            "margin": null,
            "max_height": null,
            "max_width": null,
            "min_height": null,
            "min_width": null,
            "object_fit": null,
            "object_position": null,
            "order": null,
            "overflow": null,
            "overflow_x": null,
            "overflow_y": null,
            "padding": null,
            "right": null,
            "top": null,
            "visibility": null,
            "width": null
          }
        },
        "3a176925ecc94308b29ee9360830027c": {
          "model_module": "@jupyter-widgets/controls",
          "model_name": "DescriptionStyleModel",
          "model_module_version": "1.5.0",
          "state": {
            "_model_module": "@jupyter-widgets/controls",
            "_model_module_version": "1.5.0",
            "_model_name": "DescriptionStyleModel",
            "_view_count": null,
            "_view_module": "@jupyter-widgets/base",
            "_view_module_version": "1.2.0",
            "_view_name": "StyleView",
            "description_width": ""
          }
        },
        "25994dd1022548b99285f4af348a83c2": {
          "model_module": "@jupyter-widgets/controls",
          "model_name": "HBoxModel",
          "model_module_version": "1.5.0",
          "state": {
            "_dom_classes": [],
            "_model_module": "@jupyter-widgets/controls",
            "_model_module_version": "1.5.0",
            "_model_name": "HBoxModel",
            "_view_count": null,
            "_view_module": "@jupyter-widgets/controls",
            "_view_module_version": "1.5.0",
            "_view_name": "HBoxView",
            "box_style": "",
            "children": [
              "IPY_MODEL_c534d3dccf644fb4855e25affcaf2e6e",
              "IPY_MODEL_61cab4efdec6453e96f78a9e653dc145",
              "IPY_MODEL_722e9288acc24e369d62afabd85d662f"
            ],
            "layout": "IPY_MODEL_82edf4d3247d4316a584499daae127f7"
          }
        },
        "c534d3dccf644fb4855e25affcaf2e6e": {
          "model_module": "@jupyter-widgets/controls",
          "model_name": "HTMLModel",
          "model_module_version": "1.5.0",
          "state": {
            "_dom_classes": [],
            "_model_module": "@jupyter-widgets/controls",
            "_model_module_version": "1.5.0",
            "_model_name": "HTMLModel",
            "_view_count": null,
            "_view_module": "@jupyter-widgets/controls",
            "_view_module_version": "1.5.0",
            "_view_name": "HTMLView",
            "description": "",
            "description_tooltip": null,
            "layout": "IPY_MODEL_4911ddb1716f4f808c24e10803d9941d",
            "placeholder": "​",
            "style": "IPY_MODEL_85110c1172e54aa3b142207308c4c949",
            "value": "100%"
          }
        },
        "61cab4efdec6453e96f78a9e653dc145": {
          "model_module": "@jupyter-widgets/controls",
          "model_name": "FloatProgressModel",
          "model_module_version": "1.5.0",
          "state": {
            "_dom_classes": [],
            "_model_module": "@jupyter-widgets/controls",
            "_model_module_version": "1.5.0",
            "_model_name": "FloatProgressModel",
            "_view_count": null,
            "_view_module": "@jupyter-widgets/controls",
            "_view_module_version": "1.5.0",
            "_view_name": "ProgressView",
            "bar_style": "success",
            "description": "",
            "description_tooltip": null,
            "layout": "IPY_MODEL_4e320ea1171244498285bd9e4e3e98e5",
            "max": 11,
            "min": 0,
            "orientation": "horizontal",
            "style": "IPY_MODEL_ab451c42a48b41d8a452eae59e9dc6c9",
            "value": 11
          }
        },
        "722e9288acc24e369d62afabd85d662f": {
          "model_module": "@jupyter-widgets/controls",
          "model_name": "HTMLModel",
          "model_module_version": "1.5.0",
          "state": {
            "_dom_classes": [],
            "_model_module": "@jupyter-widgets/controls",
            "_model_module_version": "1.5.0",
            "_model_name": "HTMLModel",
            "_view_count": null,
            "_view_module": "@jupyter-widgets/controls",
            "_view_module_version": "1.5.0",
            "_view_name": "HTMLView",
            "description": "",
            "description_tooltip": null,
            "layout": "IPY_MODEL_568ccb1f82ef4851a1751622ebaaa9f9",
            "placeholder": "​",
            "style": "IPY_MODEL_8d6867e136ae4360a351a96e53c5ab68",
            "value": " 11/11 [00:05&lt;00:00,  2.59it/s]"
          }
        },
        "82edf4d3247d4316a584499daae127f7": {
          "model_module": "@jupyter-widgets/base",
          "model_name": "LayoutModel",
          "model_module_version": "1.2.0",
          "state": {
            "_model_module": "@jupyter-widgets/base",
            "_model_module_version": "1.2.0",
            "_model_name": "LayoutModel",
            "_view_count": null,
            "_view_module": "@jupyter-widgets/base",
            "_view_module_version": "1.2.0",
            "_view_name": "LayoutView",
            "align_content": null,
            "align_items": null,
            "align_self": null,
            "border": null,
            "bottom": null,
            "display": null,
            "flex": null,
            "flex_flow": null,
            "grid_area": null,
            "grid_auto_columns": null,
            "grid_auto_flow": null,
            "grid_auto_rows": null,
            "grid_column": null,
            "grid_gap": null,
            "grid_row": null,
            "grid_template_areas": null,
            "grid_template_columns": null,
            "grid_template_rows": null,
            "height": null,
            "justify_content": null,
            "justify_items": null,
            "left": null,
            "margin": null,
            "max_height": null,
            "max_width": null,
            "min_height": null,
            "min_width": null,
            "object_fit": null,
            "object_position": null,
            "order": null,
            "overflow": null,
            "overflow_x": null,
            "overflow_y": null,
            "padding": null,
            "right": null,
            "top": null,
            "visibility": null,
            "width": null
          }
        },
        "4911ddb1716f4f808c24e10803d9941d": {
          "model_module": "@jupyter-widgets/base",
          "model_name": "LayoutModel",
          "model_module_version": "1.2.0",
          "state": {
            "_model_module": "@jupyter-widgets/base",
            "_model_module_version": "1.2.0",
            "_model_name": "LayoutModel",
            "_view_count": null,
            "_view_module": "@jupyter-widgets/base",
            "_view_module_version": "1.2.0",
            "_view_name": "LayoutView",
            "align_content": null,
            "align_items": null,
            "align_self": null,
            "border": null,
            "bottom": null,
            "display": null,
            "flex": null,
            "flex_flow": null,
            "grid_area": null,
            "grid_auto_columns": null,
            "grid_auto_flow": null,
            "grid_auto_rows": null,
            "grid_column": null,
            "grid_gap": null,
            "grid_row": null,
            "grid_template_areas": null,
            "grid_template_columns": null,
            "grid_template_rows": null,
            "height": null,
            "justify_content": null,
            "justify_items": null,
            "left": null,
            "margin": null,
            "max_height": null,
            "max_width": null,
            "min_height": null,
            "min_width": null,
            "object_fit": null,
            "object_position": null,
            "order": null,
            "overflow": null,
            "overflow_x": null,
            "overflow_y": null,
            "padding": null,
            "right": null,
            "top": null,
            "visibility": null,
            "width": null
          }
        },
        "85110c1172e54aa3b142207308c4c949": {
          "model_module": "@jupyter-widgets/controls",
          "model_name": "DescriptionStyleModel",
          "model_module_version": "1.5.0",
          "state": {
            "_model_module": "@jupyter-widgets/controls",
            "_model_module_version": "1.5.0",
            "_model_name": "DescriptionStyleModel",
            "_view_count": null,
            "_view_module": "@jupyter-widgets/base",
            "_view_module_version": "1.2.0",
            "_view_name": "StyleView",
            "description_width": ""
          }
        },
        "4e320ea1171244498285bd9e4e3e98e5": {
          "model_module": "@jupyter-widgets/base",
          "model_name": "LayoutModel",
          "model_module_version": "1.2.0",
          "state": {
            "_model_module": "@jupyter-widgets/base",
            "_model_module_version": "1.2.0",
            "_model_name": "LayoutModel",
            "_view_count": null,
            "_view_module": "@jupyter-widgets/base",
            "_view_module_version": "1.2.0",
            "_view_name": "LayoutView",
            "align_content": null,
            "align_items": null,
            "align_self": null,
            "border": null,
            "bottom": null,
            "display": null,
            "flex": null,
            "flex_flow": null,
            "grid_area": null,
            "grid_auto_columns": null,
            "grid_auto_flow": null,
            "grid_auto_rows": null,
            "grid_column": null,
            "grid_gap": null,
            "grid_row": null,
            "grid_template_areas": null,
            "grid_template_columns": null,
            "grid_template_rows": null,
            "height": null,
            "justify_content": null,
            "justify_items": null,
            "left": null,
            "margin": null,
            "max_height": null,
            "max_width": null,
            "min_height": null,
            "min_width": null,
            "object_fit": null,
            "object_position": null,
            "order": null,
            "overflow": null,
            "overflow_x": null,
            "overflow_y": null,
            "padding": null,
            "right": null,
            "top": null,
            "visibility": null,
            "width": null
          }
        },
        "ab451c42a48b41d8a452eae59e9dc6c9": {
          "model_module": "@jupyter-widgets/controls",
          "model_name": "ProgressStyleModel",
          "model_module_version": "1.5.0",
          "state": {
            "_model_module": "@jupyter-widgets/controls",
            "_model_module_version": "1.5.0",
            "_model_name": "ProgressStyleModel",
            "_view_count": null,
            "_view_module": "@jupyter-widgets/base",
            "_view_module_version": "1.2.0",
            "_view_name": "StyleView",
            "bar_color": "Yellow",
            "description_width": ""
          }
        },
        "568ccb1f82ef4851a1751622ebaaa9f9": {
          "model_module": "@jupyter-widgets/base",
          "model_name": "LayoutModel",
          "model_module_version": "1.2.0",
          "state": {
            "_model_module": "@jupyter-widgets/base",
            "_model_module_version": "1.2.0",
            "_model_name": "LayoutModel",
            "_view_count": null,
            "_view_module": "@jupyter-widgets/base",
            "_view_module_version": "1.2.0",
            "_view_name": "LayoutView",
            "align_content": null,
            "align_items": null,
            "align_self": null,
            "border": null,
            "bottom": null,
            "display": null,
            "flex": null,
            "flex_flow": null,
            "grid_area": null,
            "grid_auto_columns": null,
            "grid_auto_flow": null,
            "grid_auto_rows": null,
            "grid_column": null,
            "grid_gap": null,
            "grid_row": null,
            "grid_template_areas": null,
            "grid_template_columns": null,
            "grid_template_rows": null,
            "height": null,
            "justify_content": null,
            "justify_items": null,
            "left": null,
            "margin": null,
            "max_height": null,
            "max_width": null,
            "min_height": null,
            "min_width": null,
            "object_fit": null,
            "object_position": null,
            "order": null,
            "overflow": null,
            "overflow_x": null,
            "overflow_y": null,
            "padding": null,
            "right": null,
            "top": null,
            "visibility": null,
            "width": null
          }
        },
        "8d6867e136ae4360a351a96e53c5ab68": {
          "model_module": "@jupyter-widgets/controls",
          "model_name": "DescriptionStyleModel",
          "model_module_version": "1.5.0",
          "state": {
            "_model_module": "@jupyter-widgets/controls",
            "_model_module_version": "1.5.0",
            "_model_name": "DescriptionStyleModel",
            "_view_count": null,
            "_view_module": "@jupyter-widgets/base",
            "_view_module_version": "1.2.0",
            "_view_name": "StyleView",
            "description_width": ""
          }
        }
      }
    }
  },
  "cells": [
    {
      "cell_type": "code",
      "execution_count": null,
      "metadata": {
        "id": "HsBLzz9moYkS"
      },
      "outputs": [],
      "source": [
        "import numpy as np\n",
        "import pandas as pd\n",
        "from matplotlib import pyplot as plt\n",
        "from tqdm.notebook import tqdm\n",
        "\n",
        "import seaborn as sns\n",
        "import warnings\n",
        "\n",
        "import re\n",
        "from scipy import stats\n",
        "\n",
        "from scipy.stats import chi2_contingency, f_oneway\n",
        "from sklearn.preprocessing import StandardScaler\n",
        "\n",
        "from sklearn.model_selection import train_test_split as train_test_split\n",
        "from sklearn.metrics import precision_score, recall_score, accuracy_score, f1_score, roc_auc_score, cohen_kappa_score\n",
        "\n",
        "from sklearn.model_selection import cross_val_score as cross_val_score\n",
        "from sklearn.model_selection import RepeatedStratifiedKFold\n",
        "\n",
        "from sklearn.feature_selection import RFE as recurssive_feature_elimination\n",
        "\n",
        "from sklearn.pipeline import Pipeline\n",
        "\n",
        "from sklearn.compose import make_column_selector as selector\n",
        "\n",
        "from sklearn.impute import KNNImputer\n",
        "from sklearn.impute import SimpleImputer\n",
        "\n",
        "from sklearn.experimental import enable_iterative_imputer\n",
        "from sklearn.impute import IterativeImputer\n",
        "\n",
        "from sklearn.ensemble import RandomForestClassifier\n",
        "from sklearn.tree import DecisionTreeClassifier\n",
        "\n",
        "from sklearn import tree\n",
        "from sklearn.tree import DecisionTreeClassifier\n",
        "\n",
        "from xgboost import XGBClassifier, plot_importance\n",
        "\n",
        "from sklearn import svm"
      ]
    },
    {
      "cell_type": "code",
      "source": [
        "from sklearn.impute?"
      ],
      "metadata": {
        "id": "ruFTC5wR0Dxw",
        "outputId": "9d9c4507-b723-400c-b264-d7ab299cf6e7",
        "colab": {
          "base_uri": "https://localhost:8080/"
        }
      },
      "execution_count": null,
      "outputs": [
        {
          "output_type": "stream",
          "name": "stdout",
          "text": [
            "Object `sklearn.impute` not found.\n"
          ]
        }
      ]
    },
    {
      "cell_type": "code",
      "source": [
        "# Read The CSV File.\n",
        "\n",
        "df = pd.read_csv('/content/adult.csv')\n",
        "df.drop(columns = ['fnlwgt', 'education.num'], inplace = True)\n",
        "\n",
        "df.rename(columns = {'marital.status' : 'marital_status', 'capital.gain': 'capital_gain',\n",
        "                    'capital.loss' : 'capital_loss', 'hours.per.week' : 'hours_per_week',\n",
        "                    'native.country' : 'native_country'},\n",
        "                     inplace = True)\n",
        "\n",
        "target_encoder = {'<=50K' : 0, '>50K' : 1, np.nan : 2}\n",
        "\n",
        "df['income'] = df['income'].apply(lambda x : target_encoder[x])\n",
        "df = df.replace('?', np.nan)\n",
        "\n",
        "df = df[df.income != 2]\n",
        "\n",
        "df.head(5)"
      ],
      "metadata": {
        "colab": {
          "base_uri": "https://localhost:8080/",
          "height": 340
        },
        "id": "hWSPOpLNt5J7",
        "outputId": "af242970-c2d8-4f56-c334-9fc0b679a406"
      },
      "execution_count": null,
      "outputs": [
        {
          "output_type": "execute_result",
          "data": {
            "text/plain": [
              "   age workclass     education marital_status         occupation  \\\n",
              "0   90       NaN       HS-grad        Widowed                NaN   \n",
              "1   82   Private       HS-grad        Widowed    Exec-managerial   \n",
              "2   66       NaN  Some-college        Widowed                NaN   \n",
              "3   54   Private       7th-8th       Divorced  Machine-op-inspct   \n",
              "4   41   Private  Some-college      Separated     Prof-specialty   \n",
              "\n",
              "    relationship   race     sex  capital_gain  capital_loss  hours_per_week  \\\n",
              "0  Not-in-family  White  Female             0          4356              40   \n",
              "1  Not-in-family  White  Female             0          4356              18   \n",
              "2      Unmarried  Black  Female             0          4356              40   \n",
              "3      Unmarried  White  Female             0          3900              40   \n",
              "4      Own-child  White  Female             0          3900              40   \n",
              "\n",
              "  native_country  income  \n",
              "0  United-States       0  \n",
              "1  United-States       0  \n",
              "2  United-States       0  \n",
              "3  United-States       0  \n",
              "4  United-States       0  "
            ],
            "text/html": [
              "\n",
              "  <div id=\"df-12c88d60-4055-43cd-81b6-768cd29cb31f\">\n",
              "    <div class=\"colab-df-container\">\n",
              "      <div>\n",
              "<style scoped>\n",
              "    .dataframe tbody tr th:only-of-type {\n",
              "        vertical-align: middle;\n",
              "    }\n",
              "\n",
              "    .dataframe tbody tr th {\n",
              "        vertical-align: top;\n",
              "    }\n",
              "\n",
              "    .dataframe thead th {\n",
              "        text-align: right;\n",
              "    }\n",
              "</style>\n",
              "<table border=\"1\" class=\"dataframe\">\n",
              "  <thead>\n",
              "    <tr style=\"text-align: right;\">\n",
              "      <th></th>\n",
              "      <th>age</th>\n",
              "      <th>workclass</th>\n",
              "      <th>education</th>\n",
              "      <th>marital_status</th>\n",
              "      <th>occupation</th>\n",
              "      <th>relationship</th>\n",
              "      <th>race</th>\n",
              "      <th>sex</th>\n",
              "      <th>capital_gain</th>\n",
              "      <th>capital_loss</th>\n",
              "      <th>hours_per_week</th>\n",
              "      <th>native_country</th>\n",
              "      <th>income</th>\n",
              "    </tr>\n",
              "  </thead>\n",
              "  <tbody>\n",
              "    <tr>\n",
              "      <th>0</th>\n",
              "      <td>90</td>\n",
              "      <td>NaN</td>\n",
              "      <td>HS-grad</td>\n",
              "      <td>Widowed</td>\n",
              "      <td>NaN</td>\n",
              "      <td>Not-in-family</td>\n",
              "      <td>White</td>\n",
              "      <td>Female</td>\n",
              "      <td>0</td>\n",
              "      <td>4356</td>\n",
              "      <td>40</td>\n",
              "      <td>United-States</td>\n",
              "      <td>0</td>\n",
              "    </tr>\n",
              "    <tr>\n",
              "      <th>1</th>\n",
              "      <td>82</td>\n",
              "      <td>Private</td>\n",
              "      <td>HS-grad</td>\n",
              "      <td>Widowed</td>\n",
              "      <td>Exec-managerial</td>\n",
              "      <td>Not-in-family</td>\n",
              "      <td>White</td>\n",
              "      <td>Female</td>\n",
              "      <td>0</td>\n",
              "      <td>4356</td>\n",
              "      <td>18</td>\n",
              "      <td>United-States</td>\n",
              "      <td>0</td>\n",
              "    </tr>\n",
              "    <tr>\n",
              "      <th>2</th>\n",
              "      <td>66</td>\n",
              "      <td>NaN</td>\n",
              "      <td>Some-college</td>\n",
              "      <td>Widowed</td>\n",
              "      <td>NaN</td>\n",
              "      <td>Unmarried</td>\n",
              "      <td>Black</td>\n",
              "      <td>Female</td>\n",
              "      <td>0</td>\n",
              "      <td>4356</td>\n",
              "      <td>40</td>\n",
              "      <td>United-States</td>\n",
              "      <td>0</td>\n",
              "    </tr>\n",
              "    <tr>\n",
              "      <th>3</th>\n",
              "      <td>54</td>\n",
              "      <td>Private</td>\n",
              "      <td>7th-8th</td>\n",
              "      <td>Divorced</td>\n",
              "      <td>Machine-op-inspct</td>\n",
              "      <td>Unmarried</td>\n",
              "      <td>White</td>\n",
              "      <td>Female</td>\n",
              "      <td>0</td>\n",
              "      <td>3900</td>\n",
              "      <td>40</td>\n",
              "      <td>United-States</td>\n",
              "      <td>0</td>\n",
              "    </tr>\n",
              "    <tr>\n",
              "      <th>4</th>\n",
              "      <td>41</td>\n",
              "      <td>Private</td>\n",
              "      <td>Some-college</td>\n",
              "      <td>Separated</td>\n",
              "      <td>Prof-specialty</td>\n",
              "      <td>Own-child</td>\n",
              "      <td>White</td>\n",
              "      <td>Female</td>\n",
              "      <td>0</td>\n",
              "      <td>3900</td>\n",
              "      <td>40</td>\n",
              "      <td>United-States</td>\n",
              "      <td>0</td>\n",
              "    </tr>\n",
              "  </tbody>\n",
              "</table>\n",
              "</div>\n",
              "      <button class=\"colab-df-convert\" onclick=\"convertToInteractive('df-12c88d60-4055-43cd-81b6-768cd29cb31f')\"\n",
              "              title=\"Convert this dataframe to an interactive table.\"\n",
              "              style=\"display:none;\">\n",
              "        \n",
              "  <svg xmlns=\"http://www.w3.org/2000/svg\" height=\"24px\"viewBox=\"0 0 24 24\"\n",
              "       width=\"24px\">\n",
              "    <path d=\"M0 0h24v24H0V0z\" fill=\"none\"/>\n",
              "    <path d=\"M18.56 5.44l.94 2.06.94-2.06 2.06-.94-2.06-.94-.94-2.06-.94 2.06-2.06.94zm-11 1L8.5 8.5l.94-2.06 2.06-.94-2.06-.94L8.5 2.5l-.94 2.06-2.06.94zm10 10l.94 2.06.94-2.06 2.06-.94-2.06-.94-.94-2.06-.94 2.06-2.06.94z\"/><path d=\"M17.41 7.96l-1.37-1.37c-.4-.4-.92-.59-1.43-.59-.52 0-1.04.2-1.43.59L10.3 9.45l-7.72 7.72c-.78.78-.78 2.05 0 2.83L4 21.41c.39.39.9.59 1.41.59.51 0 1.02-.2 1.41-.59l7.78-7.78 2.81-2.81c.8-.78.8-2.07 0-2.86zM5.41 20L4 18.59l7.72-7.72 1.47 1.35L5.41 20z\"/>\n",
              "  </svg>\n",
              "      </button>\n",
              "      \n",
              "  <style>\n",
              "    .colab-df-container {\n",
              "      display:flex;\n",
              "      flex-wrap:wrap;\n",
              "      gap: 12px;\n",
              "    }\n",
              "\n",
              "    .colab-df-convert {\n",
              "      background-color: #E8F0FE;\n",
              "      border: none;\n",
              "      border-radius: 50%;\n",
              "      cursor: pointer;\n",
              "      display: none;\n",
              "      fill: #1967D2;\n",
              "      height: 32px;\n",
              "      padding: 0 0 0 0;\n",
              "      width: 32px;\n",
              "    }\n",
              "\n",
              "    .colab-df-convert:hover {\n",
              "      background-color: #E2EBFA;\n",
              "      box-shadow: 0px 1px 2px rgba(60, 64, 67, 0.3), 0px 1px 3px 1px rgba(60, 64, 67, 0.15);\n",
              "      fill: #174EA6;\n",
              "    }\n",
              "\n",
              "    [theme=dark] .colab-df-convert {\n",
              "      background-color: #3B4455;\n",
              "      fill: #D2E3FC;\n",
              "    }\n",
              "\n",
              "    [theme=dark] .colab-df-convert:hover {\n",
              "      background-color: #434B5C;\n",
              "      box-shadow: 0px 1px 3px 1px rgba(0, 0, 0, 0.15);\n",
              "      filter: drop-shadow(0px 1px 2px rgba(0, 0, 0, 0.3));\n",
              "      fill: #FFFFFF;\n",
              "    }\n",
              "  </style>\n",
              "\n",
              "      <script>\n",
              "        const buttonEl =\n",
              "          document.querySelector('#df-12c88d60-4055-43cd-81b6-768cd29cb31f button.colab-df-convert');\n",
              "        buttonEl.style.display =\n",
              "          google.colab.kernel.accessAllowed ? 'block' : 'none';\n",
              "\n",
              "        async function convertToInteractive(key) {\n",
              "          const element = document.querySelector('#df-12c88d60-4055-43cd-81b6-768cd29cb31f');\n",
              "          const dataTable =\n",
              "            await google.colab.kernel.invokeFunction('convertToInteractive',\n",
              "                                                     [key], {});\n",
              "          if (!dataTable) return;\n",
              "\n",
              "          const docLinkHtml = 'Like what you see? Visit the ' +\n",
              "            '<a target=\"_blank\" href=https://colab.research.google.com/notebooks/data_table.ipynb>data table notebook</a>'\n",
              "            + ' to learn more about interactive tables.';\n",
              "          element.innerHTML = '';\n",
              "          dataTable['output_type'] = 'display_data';\n",
              "          await google.colab.output.renderOutput(dataTable, element);\n",
              "          const docLink = document.createElement('div');\n",
              "          docLink.innerHTML = docLinkHtml;\n",
              "          element.appendChild(docLink);\n",
              "        }\n",
              "      </script>\n",
              "    </div>\n",
              "  </div>\n",
              "  "
            ]
          },
          "metadata": {},
          "execution_count": 4
        }
      ]
    },
    {
      "cell_type": "code",
      "source": [
        "df.columns"
      ],
      "metadata": {
        "id": "pgO4AQVFX-Wd",
        "outputId": "15ac84d2-36fc-4465-f17c-b1428e21339a",
        "colab": {
          "base_uri": "https://localhost:8080/"
        }
      },
      "execution_count": null,
      "outputs": [
        {
          "output_type": "execute_result",
          "data": {
            "text/plain": [
              "Index(['age', 'workclass', 'education', 'marital_status', 'occupation',\n",
              "       'relationship', 'race', 'sex', 'capital_gain', 'capital_loss',\n",
              "       'hours_per_week', 'native_country', 'income'],\n",
              "      dtype='object')"
            ]
          },
          "metadata": {},
          "execution_count": 5
        }
      ]
    },
    {
      "cell_type": "code",
      "source": [
        "df['income'].value_counts()"
      ],
      "metadata": {
        "colab": {
          "base_uri": "https://localhost:8080/"
        },
        "id": "1Ytv60bcW1yd",
        "outputId": "cc73848d-7129-41ed-e308-b4064c49c846"
      },
      "execution_count": null,
      "outputs": [
        {
          "output_type": "execute_result",
          "data": {
            "text/plain": [
              "0    24720\n",
              "1     7841\n",
              "Name: income, dtype: int64"
            ]
          },
          "metadata": {},
          "execution_count": 6
        }
      ]
    },
    {
      "cell_type": "code",
      "source": [
        "df.dtypes"
      ],
      "metadata": {
        "id": "STPtlizAwf6D",
        "outputId": "5780f081-4300-4062-f229-e40af11e3ca8",
        "colab": {
          "base_uri": "https://localhost:8080/"
        }
      },
      "execution_count": null,
      "outputs": [
        {
          "output_type": "execute_result",
          "data": {
            "text/plain": [
              "age                int64\n",
              "workclass         object\n",
              "education         object\n",
              "marital_status    object\n",
              "occupation        object\n",
              "relationship      object\n",
              "race              object\n",
              "sex               object\n",
              "capital_gain       int64\n",
              "capital_loss       int64\n",
              "hours_per_week     int64\n",
              "native_country    object\n",
              "income             int64\n",
              "dtype: object"
            ]
          },
          "metadata": {},
          "execution_count": 7
        }
      ]
    },
    {
      "cell_type": "code",
      "source": [
        "df['income'] = df['income'].astype('uint8')\n",
        "df.dtypes"
      ],
      "metadata": {
        "id": "kWZAyrMtwilr",
        "colab": {
          "base_uri": "https://localhost:8080/"
        },
        "outputId": "61151444-a9ed-4985-a8cf-e5818d2c6427"
      },
      "execution_count": null,
      "outputs": [
        {
          "output_type": "execute_result",
          "data": {
            "text/plain": [
              "age                int64\n",
              "workclass         object\n",
              "education         object\n",
              "marital_status    object\n",
              "occupation        object\n",
              "relationship      object\n",
              "race              object\n",
              "sex               object\n",
              "capital_gain       int64\n",
              "capital_loss       int64\n",
              "hours_per_week     int64\n",
              "native_country    object\n",
              "income             uint8\n",
              "dtype: object"
            ]
          },
          "metadata": {},
          "execution_count": 8
        }
      ]
    },
    {
      "cell_type": "code",
      "source": [
        "#Missing Value Percentage Calculator\n",
        "sns.set_style(\"darkgrid\")\n",
        "\n",
        "data = {}\n",
        "\n",
        "for col_name in df.columns:\n",
        "\n",
        "  percentage_missing =  (df[col_name].isnull().sum()*100)/len(df)\n",
        "\n",
        "  data[col_name] = percentage_missing\n",
        "\n",
        "\n",
        "sns.barplot(x = list(data.values()), \n",
        "            y = list(data.keys()))"
      ],
      "metadata": {
        "colab": {
          "base_uri": "https://localhost:8080/",
          "height": 282
        },
        "id": "kjOC6BNPyM1M",
        "outputId": "b0e7e114-d631-4e5f-c40a-3b789a88e123"
      },
      "execution_count": null,
      "outputs": [
        {
          "output_type": "execute_result",
          "data": {
            "text/plain": [
              "<matplotlib.axes._subplots.AxesSubplot at 0x7f2ab8f93b90>"
            ]
          },
          "metadata": {},
          "execution_count": 9
        },
        {
          "output_type": "display_data",
          "data": {
            "text/plain": [
              "<Figure size 432x288 with 1 Axes>"
            ],
            "image/png": "[encoded data removed]"
          },
          "metadata": {}
        }
      ]
    },
    {
      "cell_type": "code",
      "source": [
        "df_Iris = pd.read_csv('/content/Iris_Missing.csv')\n",
        "\n",
        "data = {}\n",
        "\n",
        "for col_name in df_Iris.columns:\n",
        "\n",
        "  percentage_missing =  (df_Iris[col_name].isnull().sum()*100)/len(df_Iris)\n",
        "\n",
        "  data[col_name] = percentage_missing\n",
        "\n",
        "\n",
        "sns.barplot(x = list(data.values()), \n",
        "            y = list(data.keys()))"
      ],
      "metadata": {
        "colab": {
          "base_uri": "https://localhost:8080/",
          "height": 282
        },
        "id": "Kz8OGEDh0z69",
        "outputId": "5ba0260b-940b-4b65-804a-ab1e2b688880"
      },
      "execution_count": null,
      "outputs": [
        {
          "output_type": "execute_result",
          "data": {
            "text/plain": [
              "<matplotlib.axes._subplots.AxesSubplot at 0x7f2ab8e4bad0>"
            ]
          },
          "metadata": {},
          "execution_count": 10
        },
        {
          "output_type": "display_data",
          "data": {
            "text/plain": [
              "<Figure size 432x288 with 1 Axes>"
            ],
            "image/png": "[encoded data removed]"
          },
          "metadata": {}
        }
      ]
    },
    {
      "cell_type": "markdown",
      "source": [
        "**KNN Imputer.**\n",
        "\n",
        "-----Imputing Missing Value by KNN algorithm with Varrying K; then finding the best value of K."
      ],
      "metadata": {
        "id": "ppf0LQ1VWmwu"
      }
    },
    {
      "cell_type": "code",
      "source": [
        "x, y = df_Iris.iloc[:, :-1].values, df_Iris.iloc[:, -1].values\n",
        "\n",
        "num_of_Neighbor = []\n",
        "score = []\n",
        "score_dictionary = {}\n",
        "k_fold = 10\n",
        "repeat = 3\n",
        "\n",
        "num_neighbor = [i for i in range(1, 8)]\n",
        "\n",
        "for k in tqdm(num_neighbor, colour = 'Red'):\n",
        "\n",
        "  pipeline = Pipeline(steps=[('imputer', KNNImputer(n_neighbors = k)), \n",
        "                             ('model', DecisionTreeClassifier(random_state = 42))])\n",
        "  \n",
        "  #We can Use other model also for evaluation such as xgb.XGBClassifier(random_state = 42) in the pipeline.\n",
        "  \n",
        "  cross_validation = RepeatedStratifiedKFold(n_splits = k_fold, n_repeats = repeat, random_state = 9)\n",
        "\n",
        "  cross_validation_result = cross_val_score(pipeline, x, y, scoring = 'accuracy', \n",
        "                                           cv = cross_validation, n_jobs = -1)\n",
        "  \n",
        "  num_of_Neighbor.extend([k] * k_fold * repeat)\n",
        "  score.extend(cross_validation_result)\n",
        "\n",
        "\n",
        "score_df =  pd.DataFrame({'K_Value' : num_of_Neighbor, 'Cross_Validation_Score' : score})\n",
        "\n",
        "plt.figure(figsize=(12,6))\n",
        "sns.boxplot(data = score_df, x = \"K_Value\", y = \"Cross_Validation_Score\",\n",
        "            showmeans=True,\n",
        "            meanprops = {\"marker\" : \"o\",\n",
        "                         \"markerfacecolor\" : \"white\", \n",
        "                         \"markeredgecolor\" : \"black\",\n",
        "                         \"markersize\" : \"12\"\n",
        "                         })\n",
        "\n",
        "\n",
        "plt.ylabel(\"Cross Validation Score\", size=14)\n",
        "plt.xlabel(\"Number of Neighbors\", size=14)\n",
        "plt.title(\"KNN Imputer Performance with Varrying K-Value\", color = 'Blue', size=18);"
      ],
      "metadata": {
        "id": "3GKV18YgHUBl",
        "colab": {
          "base_uri": "https://localhost:8080/",
          "height": 444,
          "referenced_widgets": [
            "e4cf26d00cf146fb9b355392686bb84b",
            "0af434a0a6a54bb99a31efc214ec29a3",
            "939d7a62610645ceac592ee3abc7a8bb",
            "dfb0170beccd40a9a3427f6625e53ce9",
            "eba8e9b8abec448cae7c9f7772e2c4cb",
            "83a18d45c5814e2e9b8feee8508c7cd6",
            "9f5ff1af10464abf8741ab7d00aadc3b",
            "586bd03c8542460daeab4a7c478a0bf0",
            "5058bc85d235436a895bb30257e32142",
            "ff20da3c3974472a988db982660df082",
            "3ff1cb11edf8488ab00f5bdee6c894c1"
          ]
        },
        "outputId": "310f0e89-488c-476b-fc16-9562329fb5a7"
      },
      "execution_count": null,
      "outputs": [
        {
          "output_type": "display_data",
          "data": {
            "text/plain": [
              "  0%|          | 0/7 [00:00<?, ?it/s]"
            ],
            "application/vnd.jupyter.widget-view+json": {
              "version_major": 2,
              "version_minor": 0,
              "model_id": "e4cf26d00cf146fb9b355392686bb84b"
            }
          },
          "metadata": {}
        },
        {
          "output_type": "display_data",
          "data": {
            "text/plain": [
              "<Figure size 864x432 with 1 Axes>"
            ],
            "image/png": "[encoded data removed]"
          },
          "metadata": {}
        }
      ]
    },
    {
      "cell_type": "code",
      "source": [
        "pipeline = Pipeline(steps=[('imputer', KNNImputer(n_neighbors = 4)), \n",
        "                             ('model', DecisionTreeClassifier(random_state = 42))])\n",
        "\n",
        "\"\"\"new_data1 and new_data2 are not in the file. We deleted them.\"\"\"\n",
        "\n",
        "new_data1 = [6.6, 3.0, np.nan, 1.4]  \n",
        "#True Class is Iris-versicolor; row 77\n",
        "\n",
        "new_data2 = [np.nan, np.nan, 5.4, 2.3]\n",
        "#True Class is Iris-virginica; row 150\n",
        "\n",
        "pipeline.fit(x, y)\n",
        "\n",
        "y_pred1 = pipeline.predict([new_data1])\n",
        "y_pred2 = pipeline.predict([new_data2])\n",
        "\n",
        "print(\"Predicted Class for new_data1 is: {}\".format(y_pred1[0]))\n",
        "print(\"Predicted Class for new_data2 is: {}\".format(y_pred2[0]))"
      ],
      "metadata": {
        "colab": {
          "base_uri": "https://localhost:8080/"
        },
        "id": "plhQ1r8c-4aR",
        "outputId": "46824dd0-c758-4c96-9157-d56999c183a8"
      },
      "execution_count": null,
      "outputs": [
        {
          "output_type": "stream",
          "name": "stdout",
          "text": [
            "Predicted Class for new_data1 is: Iris-versicolor\n",
            "Predicted Class for new_data2 is: Iris-virginica\n"
          ]
        }
      ]
    },
    {
      "cell_type": "markdown",
      "source": [
        ">> **Selecting Best Feature Using F-Score from XGBoost Model.**\n",
        "\n",
        "--What is F-Score?: https://www.csie.ntu.edu.tw/~cjlin/papers/features.pdf"
      ],
      "metadata": {
        "id": "hi7TEUckaLgt"
      }
    },
    {
      "cell_type": "code",
      "source": [
        "x, y = df_Iris.iloc[:, :-1], df_Iris.iloc[:, -1]\n",
        "\n",
        "feature_name = list(df_Iris.columns.values)[:-1]\n",
        "pipeline = Pipeline(steps=[('imputer', KNNImputer(n_neighbors = 4)), \n",
        "                           ('model', XGBClassifier(random_state = 42))])\n",
        "  \n",
        "pipeline.fit(x, y)\n",
        "\n",
        "\"\"\"What is F-Score?: https://www.csie.ntu.edu.tw/~cjlin/papers/features.pdf\"\"\"\n",
        "\n",
        "plot_importance(pipeline.named_steps[\"model\"])\n",
        "plt.show()"
      ],
      "metadata": {
        "colab": {
          "base_uri": "https://localhost:8080/",
          "height": 295
        },
        "id": "44X90Ne-Gp92",
        "outputId": "5bbce23d-3053-4252-a7ec-9c4219d76409"
      },
      "execution_count": null,
      "outputs": [
        {
          "output_type": "display_data",
          "data": {
            "text/plain": [
              "<Figure size 432x288 with 1 Axes>"
            ],
            "image/png": "[encoded data removed]"
          },
          "metadata": {}
        }
      ]
    },
    {
      "cell_type": "code",
      "source": [
        "d = pipeline.named_steps[\"model\"].get_booster().get_fscore()\n",
        "d_sorted = dict(sorted(d.items()))\n",
        "\n",
        "k, v = list(d_sorted.keys()), list(d_sorted.values())\n",
        "\n",
        "fg = sns.barplot(x = v, y = feature_name)\n",
        "\n",
        "plt.xlabel(\"F Score\", size=14)\n",
        "plt.ylabel(\"Feature Name\", size=14)\n",
        "plt.title(\"Feature Importance Plot Using XGBoost\", color = 'Blue', size=18);"
      ],
      "metadata": {
        "colab": {
          "base_uri": "https://localhost:8080/",
          "height": 303
        },
        "id": "3tdH220vKOot",
        "outputId": "1a108a72-8222-45b3-ce77-ab3b3eaaa64d"
      },
      "execution_count": null,
      "outputs": [
        {
          "output_type": "display_data",
          "data": {
            "text/plain": [
              "<Figure size 432x288 with 1 Axes>"
            ],
            "image/png": "[encoded data removed]"
          },
          "metadata": {}
        }
      ]
    },
    {
      "cell_type": "code",
      "source": [
        "d = pipeline.named_steps[\"model\"].get_booster().get_fscore()\n",
        "\n",
        "\"\"\"Sorting a Dictionary by it's value. For descending order set reverse = True\"\"\"\n",
        "FVal_dict_sorted = dict(sorted(d.items(), key = lambda _tuple_: _tuple_[1], reverse = False))\n",
        "\n",
        "cols = [k for k in FVal_dict_sorted.keys()]\n",
        "col_idx = []\n",
        "\n",
        "\"\"\"Columns are named as F0, F5 etc., i.e., 0th column, 5th column. We are extracting the Index Values.\"\"\"\n",
        "for col_name in cols:\n",
        "  col_idx.extend([int(s) for s in re.findall(r'\\d+', col_name)])\n",
        "\n",
        "print(FVal_dict_sorted)\n",
        "print(col_idx)"
      ],
      "metadata": {
        "colab": {
          "base_uri": "https://localhost:8080/"
        },
        "id": "o1F-gJZTUdIo",
        "outputId": "842fd517-5b36-423f-e108-d2dc2b55a1bc"
      },
      "execution_count": null,
      "outputs": [
        {
          "output_type": "stream",
          "name": "stdout",
          "text": [
            "{'f0': 68, 'f1': 107, 'f3': 218, 'f2': 359}\n",
            "[0, 1, 3, 2]\n"
          ]
        }
      ]
    },
    {
      "cell_type": "markdown",
      "source": [
        ">> **Selecting the Best Features**"
      ],
      "metadata": {
        "id": "Bdt8LPT9XKGx"
      }
    },
    {
      "cell_type": "code",
      "source": [
        "k = 10\n",
        "repeat = 5\n",
        "scoring_metric = 'accuracy'\n",
        "model = svm.SVC(kernel = 'linear')\n",
        "\n",
        "evaluation_score, number_of_features, Feature_Name = list(), list(), list()\n",
        "\n",
        "for i in tqdm(range(0, len(col_idx)), colour = 'black'):\n",
        "\n",
        "  \"\"\"col_idx slicing happens inside DataFrame Slicing.\"\"\"\n",
        "  features = df_Iris.iloc[:, col_idx[0+i :]]\n",
        "  target = df_Iris.iloc[:, -1]\n",
        "\n",
        "  model_pipeline = Pipeline(steps=[('imputer', KNNImputer(n_neighbors = 4)),\n",
        "                                   ('standardization', StandardScaler()), \n",
        "                                   ('model', model)\n",
        "                                  ])\n",
        "\n",
        "  cross_validation_strategy = RepeatedStratifiedKFold(n_splits = k,\n",
        "                                                      n_repeats = repeat,\n",
        "                                                      random_state = 42)\n",
        "  \n",
        "  cross_validation_score = cross_val_score(model_pipeline, \n",
        "                                           features,\n",
        "                                           target,\n",
        "                                           scoring = scoring_metric,\n",
        "                                           cv = cross_validation_strategy)\n",
        "  \n",
        "  evaluation_score.extend(cross_validation_score)\n",
        "  number_of_features.extend([len(col_idx) - i] * len(cross_validation_score))\n",
        "  Feature_Name.extend([df_Iris.iloc[:, col_idx[0+i : ]].columns.values] * len(cross_validation_score))\n",
        "  \n",
        "\n",
        "cross_val_df = pd.DataFrame({'Number_of_Features' : number_of_features,\n",
        "                             'evaluation_score' : evaluation_score,\n",
        "                             'Feature_Used' : Feature_Name\n",
        "                            }\n",
        "                            )\n",
        "\n",
        "plt.figure(figsize=(12,6))\n",
        "\n",
        "sns.boxplot(\n",
        "            x = 'Number_of_Features',\n",
        "            y = 'evaluation_score',\n",
        "            data = cross_val_df,\n",
        "            showmeans = True,\n",
        "            meanprops = {\"marker\" : \"o\",\n",
        "                         \"markerfacecolor\" : \"white\", \n",
        "                         \"markeredgecolor\" : \"black\",\n",
        "                         \"markersize\" : \"12\"\n",
        "                         }\n",
        "            )\n",
        "\n",
        "plt.ylabel(\"Cross Validation Score\", size=14)\n",
        "plt.xlabel(\"Number of Features\", size=14);"
      ],
      "metadata": {
        "colab": {
          "base_uri": "https://localhost:8080/",
          "height": 424,
          "referenced_widgets": [
            "a34db9337d6c4e71bacf3fb7b3f9bfff",
            "01a6416e9eaf44caa03bdbedb08f9f1b",
            "c031104854af4cd7a157553f27a40be1",
            "3a724c6fb515466ab0aa4e149978db7e",
            "0b5660e0532f4d7b83e3a1b859e4495c",
            "b08e542e12164be8aaa5ec41136a1d9d",
            "a42f72d6c92140379d95d9d264dcc3e5",
            "c36ebcd6a9cc4980a3c45908e5d52f2b",
            "7e6375436fff45839ea318e5b813fdb0",
            "083390d913f6431481cd91693523cf72",
            "9775aec777fe4967ab768944320aed54"
          ]
        },
        "id": "h10FADSkfVSa",
        "outputId": "5daf6318-f62e-45a1-f7d7-eb3e7cc1820f"
      },
      "execution_count": null,
      "outputs": [
        {
          "output_type": "display_data",
          "data": {
            "text/plain": [
              "  0%|          | 0/4 [00:00<?, ?it/s]"
            ],
            "application/vnd.jupyter.widget-view+json": {
              "version_major": 2,
              "version_minor": 0,
              "model_id": "a34db9337d6c4e71bacf3fb7b3f9bfff"
            }
          },
          "metadata": {}
        },
        {
          "output_type": "display_data",
          "data": {
            "text/plain": [
              "<Figure size 864x432 with 1 Axes>"
            ],
            "image/png": "[encoded data removed]"
          },
          "metadata": {}
        }
      ]
    },
    {
      "cell_type": "code",
      "source": [
        "\"\"\"Which Features were selected?\"\"\"\n",
        "\n",
        "#Select the value of n_features from above plot.\n",
        "\n",
        "n_features = 2\n",
        "feature_used = cross_val_df[cross_val_df['Number_of_Features'] == n_features][['Feature_Used']]\n",
        "feature_used.reset_index(drop = True, inplace = True)\n",
        "print(feature_used.loc[0,'Feature_Used'])"
      ],
      "metadata": {
        "colab": {
          "base_uri": "https://localhost:8080/"
        },
        "id": "Ydvu14KukUzq",
        "outputId": "bb4bab25-fb26-4f18-8faf-0f498c2edcaf"
      },
      "execution_count": null,
      "outputs": [
        {
          "output_type": "stream",
          "name": "stdout",
          "text": [
            "['PetalWidthCm' 'PetalLengthCm']\n"
          ]
        }
      ]
    },
    {
      "cell_type": "markdown",
      "source": [
        ">>> **Selecting Best Features Using Recurssive Feature Elimination**"
      ],
      "metadata": {
        "id": "9OOBuwFXZJ6f"
      }
    },
    {
      "cell_type": "code",
      "source": [
        "\"\"\"Read more here: https://scikit-learn.org/stable/modules/generated/sklearn.feature_selection.RFE.html\"\"\"\n",
        "\n",
        "k = 10\n",
        "repeat = 5\n",
        "scoring_metric = 'accuracy'\n",
        "n_features = len(list(df_Iris.columns.values)) - 1\n",
        "\n",
        "\n",
        "features = df_Iris.iloc[:, :-1]\n",
        "target = df_Iris.iloc[:, -1]\n",
        "\n",
        "estimator = svm.SVC(kernel = 'linear')\n",
        "model = svm.SVC(kernel = 'linear')\n",
        "\n",
        "evaluation_score, number_of_features, Feature_Name = list(), list(), list()\n",
        "\n",
        "def make_model_pipeline():\n",
        "\n",
        "  model_dictionary = {}\n",
        "\n",
        "  for n in range(1, n_features + 1):\n",
        "\n",
        "    rfe = recurssive_feature_elimination(estimator = estimator, \n",
        "                                         n_features_to_select = n)\n",
        "    \n",
        "    evaluator_model = model\n",
        "\n",
        "    model_pipeline = Pipeline(steps = [('imputer', KNNImputer(n_neighbors = 4)),\n",
        "                                       ('standardizer', StandardScaler()),\n",
        "                                       ('selector', rfe),                                        \n",
        "                                       ('evaluator', evaluator_model)\n",
        "                                       ])\n",
        "\n",
        "    model_dictionary[str(n)] = model_pipeline\n",
        "\n",
        "  return model_dictionary\n",
        "\n",
        "\n",
        "model = make_model_pipeline()\n",
        "\n",
        "for model_name in tqdm(model.keys(), colour = 'Blue'):\n",
        "\n",
        "  cross_validation_strategy = RepeatedStratifiedKFold(n_splits = k,\n",
        "                                                      n_repeats = repeat,\n",
        "                                                      random_state = 42)\n",
        "  \n",
        "  cross_validation_score = cross_val_score(model[model_name], \n",
        "                                           features,\n",
        "                                           target,\n",
        "                                           scoring = scoring_metric,\n",
        "                                           cv = cross_validation_strategy)\n",
        "  \n",
        "  evaluation_score.extend(cross_validation_score)\n",
        "  number_of_features.extend([int(model_name)] * len(cross_validation_score))\n",
        "\n",
        "\n",
        "cross_val_df = pd.DataFrame({'Number_of_Features' : number_of_features,\n",
        "                             'evaluation_score' : evaluation_score,\n",
        "                            })\n",
        "\n",
        "plt.figure(figsize=(12,6))\n",
        "\n",
        "sns.boxplot(\n",
        "            x = 'Number_of_Features',\n",
        "            y = 'evaluation_score',\n",
        "            data = cross_val_df,\n",
        "            showmeans = True,\n",
        "            meanprops = {\"marker\" : \"o\",\n",
        "                         \"markerfacecolor\" : \"white\", \n",
        "                         \"markeredgecolor\" : \"black\",\n",
        "                         \"markersize\" : \"12\"\n",
        "                         }\n",
        "            )\n",
        "\n",
        "plt.ylabel(\"Cross Validation Score\", size=14)\n",
        "plt.xlabel(\"Number of Features\", size=14);"
      ],
      "metadata": {
        "colab": {
          "base_uri": "https://localhost:8080/",
          "height": 424,
          "referenced_widgets": [
            "1d2a9a9bbb354b25a96972c861b45dd4",
            "3045de8a32824e43aee17fa0af2a7f13",
            "40f39e90d82d4f87ab9e8b42c9708cfd",
            "bd94f39d86ef4d07985e00bbcd517b78",
            "d7195b2a1bbc486dae4dfca608be5663",
            "57b13f4c81b141c9bb9e72d85316e44e",
            "ff126a87d227459f9ea04807ca588b93",
            "9adabe72b0604772ba5d701872b1657a",
            "3293aa0119cc4ab483e6d64eb09281c4",
            "2d840c5fc2094be1ab392c77448f0797",
            "3a176925ecc94308b29ee9360830027c"
          ]
        },
        "id": "RS3mKOiPD1OP",
        "outputId": "9d952f23-8064-4c53-f2df-466c85a7d53a"
      },
      "execution_count": null,
      "outputs": [
        {
          "output_type": "display_data",
          "data": {
            "text/plain": [
              "  0%|          | 0/4 [00:00<?, ?it/s]"
            ],
            "application/vnd.jupyter.widget-view+json": {
              "version_major": 2,
              "version_minor": 0,
              "model_id": "1d2a9a9bbb354b25a96972c861b45dd4"
            }
          },
          "metadata": {}
        },
        {
          "output_type": "display_data",
          "data": {
            "text/plain": [
              "<Figure size 864x432 with 1 Axes>"
            ],
            "image/png": "[encoded data removed]"
          },
          "metadata": {}
        }
      ]
    },
    {
      "cell_type": "code",
      "source": [
        "feature_list = list(df_Iris.columns.values)\n",
        "feature_list.remove('Species')\n",
        "\n",
        "imputer =  KNNImputer(n_neighbors = 4)\n",
        "\n",
        "rfe = recurssive_feature_elimination(estimator = estimator,\n",
        "                                     n_features_to_select = 2)\n",
        "\n",
        "imputed_features = imputer.fit_transform(features)\n",
        "rfe.fit(imputed_features, target)\n",
        "\n",
        "for n in range(len(feature_list)):\n",
        "\tprint('Feature: {}, Selected : {}, Rank: {}'.format(feature_list[n], rfe.support_[n], rfe.ranking_[n]))"
      ],
      "metadata": {
        "colab": {
          "base_uri": "https://localhost:8080/"
        },
        "id": "SccDB4nzfZXH",
        "outputId": "4cbde468-2cfd-4ce1-d39e-1a395fd0af2a"
      },
      "execution_count": null,
      "outputs": [
        {
          "output_type": "stream",
          "name": "stdout",
          "text": [
            "Feature: SepalLengthCm, Selected : False, Rank: 3\n",
            "Feature: SepalWidthCm, Selected : False, Rank: 2\n",
            "Feature: PetalLengthCm, Selected : True, Rank: 1\n",
            "Feature: PetalWidthCm, Selected : True, Rank: 1\n"
          ]
        }
      ]
    },
    {
      "cell_type": "markdown",
      "source": [
        ">>>**Comparison Between Different Imputation Techniques**"
      ],
      "metadata": {
        "id": "4s2EJw-hY7xh"
      }
    },
    {
      "cell_type": "code",
      "source": [
        "model = svm.SVC(kernel = 'linear')\n",
        "\n",
        "k_fold = 10\n",
        "repeat = 3\n",
        "Imputation_Technique, score = [], []\n",
        "\n",
        "imputation_method = {\n",
        "                     \"Mean_Imputer\" :       SimpleImputer(strategy = 'mean'),\n",
        "                     \"Median_Imputer\" :     SimpleImputer(strategy = 'median'),\n",
        "                     \"Mode_Imputer\" :       SimpleImputer(strategy = 'most_frequent'),\n",
        "                     \"Iterative_Imputer\" :  IterativeImputer()\n",
        "                     }\n",
        "\n",
        "for n in range(1, 8):\n",
        "  imputation_method[str(n) + '-NN'] = KNNImputer(n_neighbors = n)\n",
        "\n",
        "for imputer_name, imputer in tqdm(imputation_method.items(), colour = 'Yellow'):\n",
        "\n",
        "  model_pipeline = Pipeline(steps=[('imputer', imputer),\n",
        "                                   ('standardizer', StandardScaler()),\n",
        "                                   ('model', model)\n",
        "                                   ])\n",
        "\n",
        "  cross_validation = RepeatedStratifiedKFold(n_splits = k_fold,\n",
        "                                             n_repeats = repeat, \n",
        "                                             random_state = 42\n",
        "                                             )\n",
        "\n",
        "  cross_validation_result = cross_val_score(model_pipeline,\n",
        "                                            x, y, \n",
        "                                            scoring = 'accuracy', \n",
        "                                            cv = cross_validation,\n",
        "                                            n_jobs = -1\n",
        "                                            )\n",
        "  \n",
        "  Imputation_Technique.extend([imputer_name] * k_fold * repeat)\n",
        "  score.extend(cross_validation_result)\n",
        "\n",
        "\n",
        "score_df =  pd.DataFrame({'Imputation_Technique' : Imputation_Technique,\n",
        "                          'Cross_Validation_Score' : score\n",
        "                          })\n",
        "\n",
        "plt.figure(figsize=(15,8))\n",
        "\n",
        "sns.boxplot(data = score_df,\n",
        "            x = \"Imputation_Technique\",\n",
        "            y = \"Cross_Validation_Score\",\n",
        "            showmeans=True,\n",
        "            meanprops = {\"marker\" : \"o\",\n",
        "                         \"markerfacecolor\" : \"white\", \n",
        "                         \"markeredgecolor\" : \"black\",\n",
        "                         \"markersize\" : \"12\"\n",
        "                         })\n",
        "\n",
        "plt.xticks(rotation = 90)\n",
        "plt.ylabel(\"Cross Validation Score\", size=14)\n",
        "plt.xlabel(\"Imputation Techniques\", size=14);"
      ],
      "metadata": {
        "colab": {
          "base_uri": "https://localhost:8080/",
          "height": 583,
          "referenced_widgets": [
            "25994dd1022548b99285f4af348a83c2",
            "c534d3dccf644fb4855e25affcaf2e6e",
            "61cab4efdec6453e96f78a9e653dc145",
            "722e9288acc24e369d62afabd85d662f",
            "82edf4d3247d4316a584499daae127f7",
            "4911ddb1716f4f808c24e10803d9941d",
            "85110c1172e54aa3b142207308c4c949",
            "4e320ea1171244498285bd9e4e3e98e5",
            "ab451c42a48b41d8a452eae59e9dc6c9",
            "568ccb1f82ef4851a1751622ebaaa9f9",
            "8d6867e136ae4360a351a96e53c5ab68"
          ]
        },
        "id": "jm3bP4TpQxOB",
        "outputId": "c2be0da1-fa6a-41b7-da51-1e032379df63"
      },
      "execution_count": null,
      "outputs": [
        {
          "output_type": "display_data",
          "data": {
            "text/plain": [
              "  0%|          | 0/11 [00:00<?, ?it/s]"
            ],
            "application/vnd.jupyter.widget-view+json": {
              "version_major": 2,
              "version_minor": 0,
              "model_id": "25994dd1022548b99285f4af348a83c2"
            }
          },
          "metadata": {}
        },
        {
          "output_type": "display_data",
          "data": {
            "text/plain": [
              "<Figure size 1080x576 with 1 Axes>"
            ],
            "image/png": "[encoded data removed]"
          },
          "metadata": {}
        }
      ]
    }
  ]
}